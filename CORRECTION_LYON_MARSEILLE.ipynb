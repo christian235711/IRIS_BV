{
  "nbformat": 4,
  "nbformat_minor": 5,
  "metadata": {
    "kernelspec": {
      "display_name": "Python 3",
      "language": "python",
      "name": "python3"
    },
    "language_info": {
      "codemirror_mode": {
        "name": "ipython",
        "version": 3
      },
      "file_extension": ".py",
      "mimetype": "text/x-python",
      "name": "python",
      "nbconvert_exporter": "python",
      "pygments_lexer": "ipython3",
      "version": "3.8.8"
    },
    "colab": {
      "name": "CORRECTION_LYON_MARSEILLE.ipynb",
      "provenance": []
    }
  },
  "cells": [
    {
      "cell_type": "code",
      "metadata": {
        "id": "89c0b8ed"
      },
      "source": [
        "import numpy as np\n",
        "import pandas as pd\n",
        "import seaborn as sns\n",
        "import matplotlib.pyplot as plt\n",
        "pd.set_option(\"display.max_row\",50)\n",
        "pd.set_option(\"display.max_columns\",130) "
      ],
      "id": "89c0b8ed",
      "execution_count": null,
      "outputs": []
    },
    {
      "cell_type": "code",
      "metadata": {
        "id": "2d187114",
        "outputId": "27e25c0a-1428-47c4-a201-dc34663c4360"
      },
      "source": [
        "# LOUIS\n",
        "data_louis_orig = pd.read_csv(\"C:/Users/Christian/Desktop/IRIS_BV_final/Bureau_de_votes_louis/CORRIGER_VERSION_2/Geo_bureaux_de_vote_access.txt\",sep=\";\", header=0, dtype=str)\n",
        "data_louis = data_louis_orig.copy()\n",
        "print(data_louis.shape)\n",
        "data_louis.iloc[70045:70045+1,:]"
      ],
      "id": "2d187114",
      "execution_count": null,
      "outputs": [
        {
          "name": "stdout",
          "output_type": "stream",
          "text": [
            "(70048, 25)\n"
          ]
        },
        {
          "data": {
            "text/html": [
              "<div>\n",
              "<style scoped>\n",
              "    .dataframe tbody tr th:only-of-type {\n",
              "        vertical-align: middle;\n",
              "    }\n",
              "\n",
              "    .dataframe tbody tr th {\n",
              "        vertical-align: top;\n",
              "    }\n",
              "\n",
              "    .dataframe thead th {\n",
              "        text-align: right;\n",
              "    }\n",
              "</style>\n",
              "<table border=\"1\" class=\"dataframe\">\n",
              "  <thead>\n",
              "    <tr style=\"text-align: right;\">\n",
              "      <th></th>\n",
              "      <th>commune_code</th>\n",
              "      <th>libelle</th>\n",
              "      <th>code</th>\n",
              "      <th>code_corr</th>\n",
              "      <th>Code du bvote</th>\n",
              "      <th>Code du bvote_sans 0 devant</th>\n",
              "      <th>libelle_bv</th>\n",
              "      <th>num_voie</th>\n",
              "      <th>voie</th>\n",
              "      <th>complement1</th>\n",
              "      <th>complement2</th>\n",
              "      <th>lieu_dit</th>\n",
              "      <th>code_postal</th>\n",
              "      <th>commune</th>\n",
              "      <th>canton_code</th>\n",
              "      <th>circonscription_code</th>\n",
              "      <th>longitude</th>\n",
              "      <th>latitude</th>\n",
              "      <th>geo_score</th>\n",
              "      <th>geo_type</th>\n",
              "      <th>geo_adresse</th>\n",
              "      <th>geo_id</th>\n",
              "      <th>geo_ligne</th>\n",
              "      <th>geo_l4</th>\n",
              "      <th>geo_l5</th>\n",
              "    </tr>\n",
              "  </thead>\n",
              "  <tbody>\n",
              "    <tr>\n",
              "      <th>70045</th>\n",
              "      <td>14563</td>\n",
              "      <td>Saint-Benoît-d'Hébertot</td>\n",
              "      <td>001</td>\n",
              "      <td>NaN</td>\n",
              "      <td>0001</td>\n",
              "      <td>1</td>\n",
              "      <td>SAINT BENOIT D'HEBERTOT</td>\n",
              "      <td>185</td>\n",
              "      <td>route de l'Eglise</td>\n",
              "      <td>Mairie</td>\n",
              "      <td>NaN</td>\n",
              "      <td>NaN</td>\n",
              "      <td>14130</td>\n",
              "      <td>SAINT BENOIT D'HEBERTOT</td>\n",
              "      <td>14-21</td>\n",
              "      <td>14-04</td>\n",
              "      <td>0.27055</td>\n",
              "      <td>49.316366</td>\n",
              "      <td>0.62</td>\n",
              "      <td>street</td>\n",
              "      <td>Chemin de l'Eglise 14130 Saint-Benoît-d'Hébertot</td>\n",
              "      <td>14563_396noi</td>\n",
              "      <td>G</td>\n",
              "      <td>CHEMIN DE L EGLISE</td>\n",
              "      <td>NaN</td>\n",
              "    </tr>\n",
              "  </tbody>\n",
              "</table>\n",
              "</div>"
            ],
            "text/plain": [
              "      commune_code                  libelle code code_corr Code du bvote  \\\n",
              "70045        14563  Saint-Benoît-d'Hébertot  001       NaN          0001   \n",
              "\n",
              "      Code du bvote_sans 0 devant               libelle_bv num_voie  \\\n",
              "70045                           1  SAINT BENOIT D'HEBERTOT      185   \n",
              "\n",
              "                    voie complement1 complement2 lieu_dit code_postal  \\\n",
              "70045  route de l'Eglise      Mairie         NaN      NaN       14130   \n",
              "\n",
              "                       commune canton_code circonscription_code longitude  \\\n",
              "70045  SAINT BENOIT D'HEBERTOT       14-21                14-04   0.27055   \n",
              "\n",
              "        latitude geo_score geo_type  \\\n",
              "70045  49.316366      0.62   street   \n",
              "\n",
              "                                            geo_adresse        geo_id  \\\n",
              "70045  Chemin de l'Eglise 14130 Saint-Benoît-d'Hébertot  14563_396noi   \n",
              "\n",
              "      geo_ligne              geo_l4 geo_l5  \n",
              "70045         G  CHEMIN DE L EGLISE    NaN  "
            ]
          },
          "execution_count": 2,
          "metadata": {},
          "output_type": "execute_result"
        }
      ]
    },
    {
      "cell_type": "code",
      "metadata": {
        "id": "69195908",
        "outputId": "d0740535-0fac-4727-d52c-8db6c0baf3f2"
      },
      "source": [
        "#########################################################################################\n",
        "#                                      DOUBLONS ET NAN COORDONEEES\n",
        "#########################################################################################\n",
        "\n",
        "louis_sans_doublons= data_louis.drop_duplicates(subset=[\"code\",\"longitude\",\"latitude\"])\n",
        "print(louis_sans_doublons.shape)\n",
        "louis_sans_doublons = louis_sans_doublons[louis_sans_doublons[\"latitude\"].isnull()==False]\n",
        "print(louis_sans_doublons.shape)\n"
      ],
      "id": "69195908",
      "execution_count": null,
      "outputs": [
        {
          "name": "stdout",
          "output_type": "stream",
          "text": [
            "(61568, 25)\n",
            "(60998, 25)\n"
          ]
        }
      ]
    },
    {
      "cell_type": "code",
      "metadata": {
        "id": "b9d9760a"
      },
      "source": [
        ""
      ],
      "id": "b9d9760a",
      "execution_count": null,
      "outputs": []
    },
    {
      "cell_type": "code",
      "metadata": {
        "id": "685c9a2e",
        "outputId": "654004da-9806-459b-f19a-665632178707"
      },
      "source": [
        "###################### SANS LES CODES SUP A 97501 ##################\n",
        "\n",
        "louis_sans_nan_doublons_sup_97501 = louis_sans_doublons.copy()\n",
        "temp_sup_97501 = 0\n",
        "temp_lettre = 0\n",
        "for k in louis_sans_doublons[\"commune_code\"].value_counts().index:\n",
        "    try:\n",
        "        temp_k = int(k)\n",
        "        if (temp_k >= 97501):\n",
        "            temp_sup_97501 = temp_sup_97501 + 1\n",
        "            print(temp_k)\n",
        "            louis_sans_nan_doublons_sup_97501 = louis_sans_nan_doublons_sup_97501[louis_sans_nan_doublons_sup_97501[\"commune_code\"]!=k]\n",
        "            \n",
        "    except:\n",
        "        temp_lettre = temp_lettre +1\n",
        "        #print(k)\n"
      ],
      "id": "685c9a2e",
      "execution_count": null,
      "outputs": [
        {
          "name": "stdout",
          "output_type": "stream",
          "text": [
            "97611\n",
            "97604\n",
            "97614\n",
            "97610\n",
            "97602\n",
            "97603\n",
            "97612\n",
            "97608\n",
            "97617\n",
            "97601\n",
            "97605\n",
            "97607\n",
            "97616\n",
            "97615\n",
            "97606\n",
            "97609\n",
            "97613\n",
            "98734\n"
          ]
        }
      ]
    },
    {
      "cell_type": "code",
      "metadata": {
        "scrolled": true,
        "id": "5d0fe569",
        "outputId": "bf5f82cc-716e-4a2b-9d33-49e2a48bd1f3"
      },
      "source": [
        "louis_sans_nan_doublons_sup_97501[\"CHR_CODE\"] = louis_sans_nan_doublons_sup_97501[\"commune_code\"]+louis_sans_nan_doublons_sup_97501[\"Code du bvote_sans 0 devant\"]\n",
        "louis_sans_nan_doublons_sup_97501.head(1)"
      ],
      "id": "5d0fe569",
      "execution_count": null,
      "outputs": [
        {
          "data": {
            "text/html": [
              "<div>\n",
              "<style scoped>\n",
              "    .dataframe tbody tr th:only-of-type {\n",
              "        vertical-align: middle;\n",
              "    }\n",
              "\n",
              "    .dataframe tbody tr th {\n",
              "        vertical-align: top;\n",
              "    }\n",
              "\n",
              "    .dataframe thead th {\n",
              "        text-align: right;\n",
              "    }\n",
              "</style>\n",
              "<table border=\"1\" class=\"dataframe\">\n",
              "  <thead>\n",
              "    <tr style=\"text-align: right;\">\n",
              "      <th></th>\n",
              "      <th>commune_code</th>\n",
              "      <th>libelle</th>\n",
              "      <th>code</th>\n",
              "      <th>code_corr</th>\n",
              "      <th>Code du bvote</th>\n",
              "      <th>Code du bvote_sans 0 devant</th>\n",
              "      <th>libelle_bv</th>\n",
              "      <th>num_voie</th>\n",
              "      <th>voie</th>\n",
              "      <th>complement1</th>\n",
              "      <th>complement2</th>\n",
              "      <th>lieu_dit</th>\n",
              "      <th>code_postal</th>\n",
              "      <th>commune</th>\n",
              "      <th>canton_code</th>\n",
              "      <th>circonscription_code</th>\n",
              "      <th>longitude</th>\n",
              "      <th>latitude</th>\n",
              "      <th>geo_score</th>\n",
              "      <th>geo_type</th>\n",
              "      <th>geo_adresse</th>\n",
              "      <th>geo_id</th>\n",
              "      <th>geo_ligne</th>\n",
              "      <th>geo_l4</th>\n",
              "      <th>geo_l5</th>\n",
              "      <th>CHR_CODE</th>\n",
              "    </tr>\n",
              "  </thead>\n",
              "  <tbody>\n",
              "    <tr>\n",
              "      <th>0</th>\n",
              "      <td>59350</td>\n",
              "      <td>Lille</td>\n",
              "      <td>807</td>\n",
              "      <td>NaN</td>\n",
              "      <td>0807</td>\n",
              "      <td>807</td>\n",
              "      <td>ECOLE AMPERE</td>\n",
              "      <td>64</td>\n",
              "      <td>RUE D'IENA</td>\n",
              "      <td>NaN</td>\n",
              "      <td>NaN</td>\n",
              "      <td>NaN</td>\n",
              "      <td>59000</td>\n",
              "      <td>LILLE</td>\n",
              "      <td>59-27</td>\n",
              "      <td>59-11</td>\n",
              "      <td>3.043027</td>\n",
              "      <td>50.621124</td>\n",
              "      <td>0.96</td>\n",
              "      <td>street</td>\n",
              "      <td>Rue d'Iena 59000 Lille</td>\n",
              "      <td>59350_4658</td>\n",
              "      <td>G</td>\n",
              "      <td>RUE D IENA</td>\n",
              "      <td>NaN</td>\n",
              "      <td>59350807</td>\n",
              "    </tr>\n",
              "  </tbody>\n",
              "</table>\n",
              "</div>"
            ],
            "text/plain": [
              "  commune_code libelle code code_corr Code du bvote  \\\n",
              "0        59350   Lille  807       NaN          0807   \n",
              "\n",
              "  Code du bvote_sans 0 devant    libelle_bv num_voie        voie complement1  \\\n",
              "0                         807  ECOLE AMPERE       64  RUE D'IENA         NaN   \n",
              "\n",
              "  complement2 lieu_dit code_postal commune canton_code circonscription_code  \\\n",
              "0         NaN      NaN       59000   LILLE       59-27                59-11   \n",
              "\n",
              "  longitude   latitude geo_score geo_type             geo_adresse      geo_id  \\\n",
              "0  3.043027  50.621124      0.96   street  Rue d'Iena 59000 Lille  59350_4658   \n",
              "\n",
              "  geo_ligne      geo_l4 geo_l5  CHR_CODE  \n",
              "0         G  RUE D IENA    NaN  59350807  "
            ]
          },
          "execution_count": 5,
          "metadata": {},
          "output_type": "execute_result"
        }
      ]
    },
    {
      "cell_type": "code",
      "metadata": {
        "id": "0f8cbe77",
        "outputId": "3b645c55-d511-4126-ba58-d0c5a6f2e5d7"
      },
      "source": [
        "# SANS DOUBLONS \"CHR_CODE\"\n",
        "louis_sans_nan_doublons_sup_97501 = louis_sans_nan_doublons_sup_97501.drop_duplicates(subset=[\"CHR_CODE\"])\n",
        "louis_sans_nan_doublons_sup_97501.shape"
      ],
      "id": "0f8cbe77",
      "execution_count": null,
      "outputs": [
        {
          "data": {
            "text/plain": [
              "(60794, 26)"
            ]
          },
          "execution_count": 6,
          "metadata": {},
          "output_type": "execute_result"
        }
      ]
    },
    {
      "cell_type": "code",
      "metadata": {
        "id": "68c0fb5b",
        "outputId": "1611d396-1eb8-4f47-ab19-71924999911b"
      },
      "source": [
        "70048-69959"
      ],
      "id": "68c0fb5b",
      "execution_count": null,
      "outputs": [
        {
          "data": {
            "text/plain": [
              "89"
            ]
          },
          "execution_count": 7,
          "metadata": {},
          "output_type": "execute_result"
        }
      ]
    },
    {
      "cell_type": "code",
      "metadata": {
        "id": "e87da51f",
        "outputId": "3eacc09f-9355-4b97-959c-605c75b3c5a4"
      },
      "source": [
        "# vérification 1\n",
        "louis_sans_nan_doublons_sup_97501[\"geo_score\"].isnull().sum()"
      ],
      "id": "e87da51f",
      "execution_count": null,
      "outputs": [
        {
          "data": {
            "text/plain": [
              "6"
            ]
          },
          "execution_count": 8,
          "metadata": {},
          "output_type": "execute_result"
        }
      ]
    },
    {
      "cell_type": "code",
      "metadata": {
        "id": "644d93fb"
      },
      "source": [
        "louis_sans_nan_doublons_sup_97501[louis_sans_nan_doublons_sup_97501[\"geo_score\"].isnull()]\n",
        "index_elim=louis_sans_nan_doublons_sup_97501[louis_sans_nan_doublons_sup_97501[\"geo_score\"].isnull()].index"
      ],
      "id": "644d93fb",
      "execution_count": null,
      "outputs": []
    },
    {
      "cell_type": "code",
      "metadata": {
        "id": "ae367e46"
      },
      "source": [
        "for i in index_elim:\n",
        "    louis_sans_nan_doublons_sup_97501 =  louis_sans_nan_doublons_sup_97501.drop(i,0)"
      ],
      "id": "ae367e46",
      "execution_count": null,
      "outputs": []
    },
    {
      "cell_type": "code",
      "metadata": {
        "id": "b2d6aeda",
        "outputId": "1ec9a6db-fdfa-4bbb-a034-c7a99ee314d3"
      },
      "source": [
        "# vérification 2\n",
        "louis_sans_nan_doublons_sup_97501[\"geo_score\"].isnull().sum()"
      ],
      "id": "b2d6aeda",
      "execution_count": null,
      "outputs": [
        {
          "data": {
            "text/plain": [
              "0"
            ]
          },
          "execution_count": 11,
          "metadata": {},
          "output_type": "execute_result"
        }
      ]
    },
    {
      "cell_type": "code",
      "metadata": {
        "id": "704bd5fd",
        "outputId": "637266b8-ea5f-417f-dd85-93e9eaea26df"
      },
      "source": [
        "# CORRECTION D'UNE LIGNE\n",
        "louis_sans_nan_doublons_sup_97501[louis_sans_nan_doublons_sup_97501[\"libelle_bv\"]==\"ANCIENNE CURE\"]"
      ],
      "id": "704bd5fd",
      "execution_count": null,
      "outputs": [
        {
          "data": {
            "text/html": [
              "<div>\n",
              "<style scoped>\n",
              "    .dataframe tbody tr th:only-of-type {\n",
              "        vertical-align: middle;\n",
              "    }\n",
              "\n",
              "    .dataframe tbody tr th {\n",
              "        vertical-align: top;\n",
              "    }\n",
              "\n",
              "    .dataframe thead th {\n",
              "        text-align: right;\n",
              "    }\n",
              "</style>\n",
              "<table border=\"1\" class=\"dataframe\">\n",
              "  <thead>\n",
              "    <tr style=\"text-align: right;\">\n",
              "      <th></th>\n",
              "      <th>commune_code</th>\n",
              "      <th>libelle</th>\n",
              "      <th>code</th>\n",
              "      <th>code_corr</th>\n",
              "      <th>Code du bvote</th>\n",
              "      <th>Code du bvote_sans 0 devant</th>\n",
              "      <th>libelle_bv</th>\n",
              "      <th>num_voie</th>\n",
              "      <th>voie</th>\n",
              "      <th>complement1</th>\n",
              "      <th>complement2</th>\n",
              "      <th>lieu_dit</th>\n",
              "      <th>code_postal</th>\n",
              "      <th>commune</th>\n",
              "      <th>canton_code</th>\n",
              "      <th>circonscription_code</th>\n",
              "      <th>longitude</th>\n",
              "      <th>latitude</th>\n",
              "      <th>geo_score</th>\n",
              "      <th>geo_type</th>\n",
              "      <th>geo_adresse</th>\n",
              "      <th>geo_id</th>\n",
              "      <th>geo_ligne</th>\n",
              "      <th>geo_l4</th>\n",
              "      <th>geo_l5</th>\n",
              "      <th>CHR_CODE</th>\n",
              "    </tr>\n",
              "  </thead>\n",
              "  <tbody>\n",
              "    <tr>\n",
              "      <th>45678</th>\n",
              "      <td>85151</td>\n",
              "      <td>Mortagne-sur-Sèvre</td>\n",
              "      <td>0004</td>\n",
              "      <td>NaN</td>\n",
              "      <td>0004</td>\n",
              "      <td>4</td>\n",
              "      <td>ANCIENNE CURE</td>\n",
              "      <td>NaN</td>\n",
              "      <td>1 rue du Centre</td>\n",
              "      <td>Evrunes</td>\n",
              "      <td>NaN</td>\n",
              "      <td>NaN</td>\n",
              "      <td>85290</td>\n",
              "      <td>MORTAGNE SUR SEVRE</td>\n",
              "      <td>85-11</td>\n",
              "      <td>85-04</td>\n",
              "      <td>-0.971915</td>\n",
              "      <td>47.000255</td>\n",
              "      <td>0.95</td>\n",
              "      <td>housenumber</td>\n",
              "      <td>1 Rue du Centre 85290 Mortagne-sur-Sèvre</td>\n",
              "      <td>85151_0150_00001</td>\n",
              "      <td>G</td>\n",
              "      <td>1 RUE DU CENTRE</td>\n",
              "      <td>NaN</td>\n",
              "      <td>851514</td>\n",
              "    </tr>\n",
              "    <tr>\n",
              "      <th>65731</th>\n",
              "      <td>42154</td>\n",
              "      <td>Néronde</td>\n",
              "      <td>1</td>\n",
              "      <td>NaN</td>\n",
              "      <td>0001</td>\n",
              "      <td>1</td>\n",
              "      <td>ANCIENNE CURE</td>\n",
              "      <td>42510</td>\n",
              "      <td>NERONDE</td>\n",
              "      <td>NaN</td>\n",
              "      <td>NaN</td>\n",
              "      <td>NaN</td>\n",
              "      <td>42510</td>\n",
              "      <td>NÉRONDE</td>\n",
              "      <td>42-04</td>\n",
              "      <td>42-06</td>\n",
              "      <td>2.127469</td>\n",
              "      <td>22.927179</td>\n",
              "      <td>0.93</td>\n",
              "      <td>municipality</td>\n",
              "      <td>Néronde</td>\n",
              "      <td>42154</td>\n",
              "      <td>G</td>\n",
              "      <td>NERONDE</td>\n",
              "      <td>NaN</td>\n",
              "      <td>421541</td>\n",
              "    </tr>\n",
              "  </tbody>\n",
              "</table>\n",
              "</div>"
            ],
            "text/plain": [
              "      commune_code             libelle  code code_corr Code du bvote  \\\n",
              "45678        85151  Mortagne-sur-Sèvre  0004       NaN          0004   \n",
              "65731        42154             Néronde     1       NaN          0001   \n",
              "\n",
              "      Code du bvote_sans 0 devant     libelle_bv num_voie             voie  \\\n",
              "45678                           4  ANCIENNE CURE      NaN  1 rue du Centre   \n",
              "65731                           1  ANCIENNE CURE    42510          NERONDE   \n",
              "\n",
              "      complement1 complement2 lieu_dit code_postal             commune  \\\n",
              "45678     Evrunes         NaN      NaN       85290  MORTAGNE SUR SEVRE   \n",
              "65731         NaN         NaN      NaN       42510             NÉRONDE   \n",
              "\n",
              "      canton_code circonscription_code  longitude   latitude geo_score  \\\n",
              "45678       85-11                85-04  -0.971915  47.000255      0.95   \n",
              "65731       42-04                42-06   2.127469  22.927179      0.93   \n",
              "\n",
              "           geo_type                               geo_adresse  \\\n",
              "45678   housenumber  1 Rue du Centre 85290 Mortagne-sur-Sèvre   \n",
              "65731  municipality                                   Néronde   \n",
              "\n",
              "                 geo_id geo_ligne           geo_l4 geo_l5 CHR_CODE  \n",
              "45678  85151_0150_00001         G  1 RUE DU CENTRE    NaN   851514  \n",
              "65731             42154         G          NERONDE    NaN   421541  "
            ]
          },
          "execution_count": 12,
          "metadata": {},
          "output_type": "execute_result"
        }
      ]
    },
    {
      "cell_type": "code",
      "metadata": {
        "id": "fb71764d"
      },
      "source": [
        "louis_sans_nan_doublons_sup_97501.loc[65731,\"longitude\"] = 4.236545\n",
        "louis_sans_nan_doublons_sup_97501.loc[65731,\"latitude\"] = 45.838744"
      ],
      "id": "fb71764d",
      "execution_count": null,
      "outputs": []
    },
    {
      "cell_type": "code",
      "metadata": {
        "id": "77b17a22",
        "outputId": "a7e115a1-6806-4c77-f873-ceee2af53eb9"
      },
      "source": [
        "# VERIFICATION\n",
        "louis_sans_nan_doublons_sup_97501[louis_sans_nan_doublons_sup_97501[\"libelle_bv\"]==\"ANCIENNE CURE\"]"
      ],
      "id": "77b17a22",
      "execution_count": null,
      "outputs": [
        {
          "data": {
            "text/html": [
              "<div>\n",
              "<style scoped>\n",
              "    .dataframe tbody tr th:only-of-type {\n",
              "        vertical-align: middle;\n",
              "    }\n",
              "\n",
              "    .dataframe tbody tr th {\n",
              "        vertical-align: top;\n",
              "    }\n",
              "\n",
              "    .dataframe thead th {\n",
              "        text-align: right;\n",
              "    }\n",
              "</style>\n",
              "<table border=\"1\" class=\"dataframe\">\n",
              "  <thead>\n",
              "    <tr style=\"text-align: right;\">\n",
              "      <th></th>\n",
              "      <th>commune_code</th>\n",
              "      <th>libelle</th>\n",
              "      <th>code</th>\n",
              "      <th>code_corr</th>\n",
              "      <th>Code du bvote</th>\n",
              "      <th>Code du bvote_sans 0 devant</th>\n",
              "      <th>libelle_bv</th>\n",
              "      <th>num_voie</th>\n",
              "      <th>voie</th>\n",
              "      <th>complement1</th>\n",
              "      <th>complement2</th>\n",
              "      <th>lieu_dit</th>\n",
              "      <th>code_postal</th>\n",
              "      <th>commune</th>\n",
              "      <th>canton_code</th>\n",
              "      <th>circonscription_code</th>\n",
              "      <th>longitude</th>\n",
              "      <th>latitude</th>\n",
              "      <th>geo_score</th>\n",
              "      <th>geo_type</th>\n",
              "      <th>geo_adresse</th>\n",
              "      <th>geo_id</th>\n",
              "      <th>geo_ligne</th>\n",
              "      <th>geo_l4</th>\n",
              "      <th>geo_l5</th>\n",
              "      <th>CHR_CODE</th>\n",
              "    </tr>\n",
              "  </thead>\n",
              "  <tbody>\n",
              "    <tr>\n",
              "      <th>45678</th>\n",
              "      <td>85151</td>\n",
              "      <td>Mortagne-sur-Sèvre</td>\n",
              "      <td>0004</td>\n",
              "      <td>NaN</td>\n",
              "      <td>0004</td>\n",
              "      <td>4</td>\n",
              "      <td>ANCIENNE CURE</td>\n",
              "      <td>NaN</td>\n",
              "      <td>1 rue du Centre</td>\n",
              "      <td>Evrunes</td>\n",
              "      <td>NaN</td>\n",
              "      <td>NaN</td>\n",
              "      <td>85290</td>\n",
              "      <td>MORTAGNE SUR SEVRE</td>\n",
              "      <td>85-11</td>\n",
              "      <td>85-04</td>\n",
              "      <td>-0.971915</td>\n",
              "      <td>47.000255</td>\n",
              "      <td>0.95</td>\n",
              "      <td>housenumber</td>\n",
              "      <td>1 Rue du Centre 85290 Mortagne-sur-Sèvre</td>\n",
              "      <td>85151_0150_00001</td>\n",
              "      <td>G</td>\n",
              "      <td>1 RUE DU CENTRE</td>\n",
              "      <td>NaN</td>\n",
              "      <td>851514</td>\n",
              "    </tr>\n",
              "    <tr>\n",
              "      <th>65731</th>\n",
              "      <td>42154</td>\n",
              "      <td>Néronde</td>\n",
              "      <td>1</td>\n",
              "      <td>NaN</td>\n",
              "      <td>0001</td>\n",
              "      <td>1</td>\n",
              "      <td>ANCIENNE CURE</td>\n",
              "      <td>42510</td>\n",
              "      <td>NERONDE</td>\n",
              "      <td>NaN</td>\n",
              "      <td>NaN</td>\n",
              "      <td>NaN</td>\n",
              "      <td>42510</td>\n",
              "      <td>NÉRONDE</td>\n",
              "      <td>42-04</td>\n",
              "      <td>42-06</td>\n",
              "      <td>4.236545</td>\n",
              "      <td>45.838744</td>\n",
              "      <td>0.93</td>\n",
              "      <td>municipality</td>\n",
              "      <td>Néronde</td>\n",
              "      <td>42154</td>\n",
              "      <td>G</td>\n",
              "      <td>NERONDE</td>\n",
              "      <td>NaN</td>\n",
              "      <td>421541</td>\n",
              "    </tr>\n",
              "  </tbody>\n",
              "</table>\n",
              "</div>"
            ],
            "text/plain": [
              "      commune_code             libelle  code code_corr Code du bvote  \\\n",
              "45678        85151  Mortagne-sur-Sèvre  0004       NaN          0004   \n",
              "65731        42154             Néronde     1       NaN          0001   \n",
              "\n",
              "      Code du bvote_sans 0 devant     libelle_bv num_voie             voie  \\\n",
              "45678                           4  ANCIENNE CURE      NaN  1 rue du Centre   \n",
              "65731                           1  ANCIENNE CURE    42510          NERONDE   \n",
              "\n",
              "      complement1 complement2 lieu_dit code_postal             commune  \\\n",
              "45678     Evrunes         NaN      NaN       85290  MORTAGNE SUR SEVRE   \n",
              "65731         NaN         NaN      NaN       42510             NÉRONDE   \n",
              "\n",
              "      canton_code circonscription_code  longitude   latitude geo_score  \\\n",
              "45678       85-11                85-04  -0.971915  47.000255      0.95   \n",
              "65731       42-04                42-06   4.236545  45.838744      0.93   \n",
              "\n",
              "           geo_type                               geo_adresse  \\\n",
              "45678   housenumber  1 Rue du Centre 85290 Mortagne-sur-Sèvre   \n",
              "65731  municipality                                   Néronde   \n",
              "\n",
              "                 geo_id geo_ligne           geo_l4 geo_l5 CHR_CODE  \n",
              "45678  85151_0150_00001         G  1 RUE DU CENTRE    NaN   851514  \n",
              "65731             42154         G          NERONDE    NaN   421541  "
            ]
          },
          "execution_count": 14,
          "metadata": {},
          "output_type": "execute_result"
        }
      ]
    },
    {
      "cell_type": "code",
      "metadata": {
        "id": "bc215b73"
      },
      "source": [
        ""
      ],
      "id": "bc215b73",
      "execution_count": null,
      "outputs": []
    },
    {
      "cell_type": "code",
      "metadata": {
        "id": "e0c61ad4"
      },
      "source": [
        ""
      ],
      "id": "e0c61ad4",
      "execution_count": null,
      "outputs": []
    },
    {
      "cell_type": "code",
      "metadata": {
        "id": "94e51a09"
      },
      "source": [
        ""
      ],
      "id": "94e51a09",
      "execution_count": null,
      "outputs": []
    },
    {
      "cell_type": "code",
      "metadata": {
        "id": "20428afc"
      },
      "source": [
        ""
      ],
      "id": "20428afc",
      "execution_count": null,
      "outputs": []
    },
    {
      "cell_type": "code",
      "metadata": {
        "id": "0c212836"
      },
      "source": [
        ""
      ],
      "id": "0c212836",
      "execution_count": null,
      "outputs": []
    },
    {
      "cell_type": "code",
      "metadata": {
        "id": "9847581f",
        "outputId": "33371a21-b35a-4bfe-cca1-18aa519936e0"
      },
      "source": [
        "# PIERRE\n",
        "bv_euro_brut = pd.read_csv(\"C:/Users/Christian/Desktop/IRIS_BV_final/Bureau_de_votes_louis/CORRIGER_VERSION_2/Resultats-definitifs-par-bureau-de-vote_access.txt\",sep=\";\",header=0, dtype=str,encoding=\"iso-8859-1\")\n",
        "bv_euro =bv_euro_brut.copy()\n",
        "print(bv_euro.shape )\n",
        "bv_euro.head(1)"
      ],
      "id": "9847581f",
      "execution_count": null,
      "outputs": [
        {
          "name": "stdout",
          "output_type": "stream",
          "text": [
            "(69297, 226)\n"
          ]
        },
        {
          "data": {
            "text/html": [
              "<div>\n",
              "<style scoped>\n",
              "    .dataframe tbody tr th:only-of-type {\n",
              "        vertical-align: middle;\n",
              "    }\n",
              "\n",
              "    .dataframe tbody tr th {\n",
              "        vertical-align: top;\n",
              "    }\n",
              "\n",
              "    .dataframe thead th {\n",
              "        text-align: right;\n",
              "    }\n",
              "</style>\n",
              "<table border=\"1\" class=\"dataframe\">\n",
              "  <thead>\n",
              "    <tr style=\"text-align: right;\">\n",
              "      <th></th>\n",
              "      <th>Code_INSEE</th>\n",
              "      <th>Code_commune</th>\n",
              "      <th>Code du département</th>\n",
              "      <th>Libellé du département</th>\n",
              "      <th>Code de la commune</th>\n",
              "      <th>Libellé de la commune</th>\n",
              "      <th>Code du bvote</th>\n",
              "      <th>Code du bvote_sans 0 devant</th>\n",
              "      <th>Inscrits</th>\n",
              "      <th>Abstentions</th>\n",
              "      <th>% Abs/Ins</th>\n",
              "      <th>Votants</th>\n",
              "      <th>% Vot/Ins</th>\n",
              "      <th>Blancs</th>\n",
              "      <th>% Blancs/Ins</th>\n",
              "      <th>% Blancs/Vot</th>\n",
              "      <th>Nuls</th>\n",
              "      <th>% Nuls/Ins</th>\n",
              "      <th>% Nuls/Vot</th>\n",
              "      <th>Exprimés</th>\n",
              "      <th>% Exp/Ins</th>\n",
              "      <th>% Exp/Vot</th>\n",
              "      <th>N°Liste_1</th>\n",
              "      <th>Libellé Abrégé Liste_1</th>\n",
              "      <th>Nom Tête de Liste_1</th>\n",
              "      <th>Voix_1</th>\n",
              "      <th>% Voix/Ins_1</th>\n",
              "      <th>% Voix/Exp_1</th>\n",
              "      <th>N°Liste_2</th>\n",
              "      <th>Libellé Abrégé Liste_2</th>\n",
              "      <th>Nom Tête de Liste_2</th>\n",
              "      <th>Voix_2</th>\n",
              "      <th>% Voix/Ins_2</th>\n",
              "      <th>% Voix/Exp_2</th>\n",
              "      <th>N°Liste_3</th>\n",
              "      <th>Libellé Abrégé Liste_3</th>\n",
              "      <th>Nom Tête de Liste_3</th>\n",
              "      <th>Voix_3</th>\n",
              "      <th>% Voix/Ins_3</th>\n",
              "      <th>% Voix/Exp_3</th>\n",
              "      <th>N°Liste_4</th>\n",
              "      <th>Libellé Abrégé Liste_4</th>\n",
              "      <th>Nom Tête de Liste_4</th>\n",
              "      <th>Voix_4</th>\n",
              "      <th>% Voix/Ins_4</th>\n",
              "      <th>% Voix/Exp_4</th>\n",
              "      <th>N°Liste_5</th>\n",
              "      <th>Libellé Abrégé Liste_5</th>\n",
              "      <th>Nom Tête de Liste_5</th>\n",
              "      <th>Voix_5</th>\n",
              "      <th>% Voix/Ins_5</th>\n",
              "      <th>% Voix/Exp_5</th>\n",
              "      <th>N°Liste_6</th>\n",
              "      <th>Libellé Abrégé Liste_6</th>\n",
              "      <th>Nom Tête de Liste_6</th>\n",
              "      <th>Voix_6</th>\n",
              "      <th>% Voix/Ins_6</th>\n",
              "      <th>% Voix/Exp_6</th>\n",
              "      <th>N°Liste_7</th>\n",
              "      <th>Libellé Abrégé Liste_7</th>\n",
              "      <th>Nom Tête de Liste_7</th>\n",
              "      <th>Voix_7</th>\n",
              "      <th>% Voix/Ins_7</th>\n",
              "      <th>% Voix/Exp_7</th>\n",
              "      <th>N°Liste_8</th>\n",
              "      <th>...</th>\n",
              "      <th>Libellé Abrégé Liste_24</th>\n",
              "      <th>Nom Tête de Liste_24</th>\n",
              "      <th>Voix_24</th>\n",
              "      <th>% Voix/Ins_24</th>\n",
              "      <th>% Voix/Exp_24</th>\n",
              "      <th>N°Liste_25</th>\n",
              "      <th>Libellé Abrégé Liste_25</th>\n",
              "      <th>Nom Tête de Liste_25</th>\n",
              "      <th>Voix_25</th>\n",
              "      <th>% Voix/Ins_25</th>\n",
              "      <th>% Voix/Exp_25</th>\n",
              "      <th>N°Liste_26</th>\n",
              "      <th>Libellé Abrégé Liste_26</th>\n",
              "      <th>Nom Tête de Liste_26</th>\n",
              "      <th>Voix_26</th>\n",
              "      <th>% Voix/Ins_26</th>\n",
              "      <th>% Voix/Exp_26</th>\n",
              "      <th>N°Liste_27</th>\n",
              "      <th>Libellé Abrégé Liste_27</th>\n",
              "      <th>Nom Tête de Liste_27</th>\n",
              "      <th>Voix_27</th>\n",
              "      <th>% Voix/Ins_27</th>\n",
              "      <th>% Voix/Exp_27</th>\n",
              "      <th>N°Liste_28</th>\n",
              "      <th>Libellé Abrégé Liste_28</th>\n",
              "      <th>Nom Tête de Liste_28</th>\n",
              "      <th>Voix_28</th>\n",
              "      <th>% Voix/Ins_28</th>\n",
              "      <th>% Voix/Exp_28</th>\n",
              "      <th>N°Liste_29</th>\n",
              "      <th>Libellé Abrégé Liste_29</th>\n",
              "      <th>Nom Tête de Liste_29</th>\n",
              "      <th>Voix_29</th>\n",
              "      <th>% Voix/Ins_29</th>\n",
              "      <th>% Voix/Exp_29</th>\n",
              "      <th>N°Liste_30</th>\n",
              "      <th>Libellé Abrégé Liste_30</th>\n",
              "      <th>Nom Tête de Liste_30</th>\n",
              "      <th>Voix_30</th>\n",
              "      <th>% Voix/Ins_30</th>\n",
              "      <th>% Voix/Exp_30</th>\n",
              "      <th>N°Liste_31</th>\n",
              "      <th>Libellé Abrégé Liste_31</th>\n",
              "      <th>Nom Tête de Liste_31</th>\n",
              "      <th>Voix_31</th>\n",
              "      <th>% Voix/Ins_31</th>\n",
              "      <th>% Voix/Exp_31</th>\n",
              "      <th>N°Liste_32</th>\n",
              "      <th>Libellé Abrégé Liste_32</th>\n",
              "      <th>Nom Tête de Liste_32</th>\n",
              "      <th>Voix_32</th>\n",
              "      <th>% Voix/Ins_32</th>\n",
              "      <th>% Voix/Exp_32</th>\n",
              "      <th>N°Liste_33</th>\n",
              "      <th>Libellé Abrégé Liste_33</th>\n",
              "      <th>Nom Tête de Liste_33</th>\n",
              "      <th>Voix_33</th>\n",
              "      <th>% Voix/Ins_33</th>\n",
              "      <th>% Voix/Exp_33</th>\n",
              "      <th>N°Liste_34</th>\n",
              "      <th>Libellé Abrégé Liste_34</th>\n",
              "      <th>Nom Tête de Liste_34</th>\n",
              "      <th>Voix_34</th>\n",
              "      <th>% Voix/Ins_34</th>\n",
              "      <th>% Voix/Exp_34</th>\n",
              "    </tr>\n",
              "  </thead>\n",
              "  <tbody>\n",
              "    <tr>\n",
              "      <th>0</th>\n",
              "      <td>01004</td>\n",
              "      <td>01004</td>\n",
              "      <td>01</td>\n",
              "      <td>Ain</td>\n",
              "      <td>004</td>\n",
              "      <td>Ambérieu-en-Bugey</td>\n",
              "      <td>0008</td>\n",
              "      <td>8</td>\n",
              "      <td>978</td>\n",
              "      <td>476</td>\n",
              "      <td>48,67</td>\n",
              "      <td>502</td>\n",
              "      <td>51,33</td>\n",
              "      <td>16</td>\n",
              "      <td>1,64</td>\n",
              "      <td>3,19</td>\n",
              "      <td>6</td>\n",
              "      <td>0,61</td>\n",
              "      <td>1,20</td>\n",
              "      <td>480</td>\n",
              "      <td>49,08</td>\n",
              "      <td>95,62</td>\n",
              "      <td>1</td>\n",
              "      <td>LA FRANCE INSOUMISE</td>\n",
              "      <td>AUBRY Manon</td>\n",
              "      <td>35</td>\n",
              "      <td>3,58</td>\n",
              "      <td>7,29</td>\n",
              "      <td>2</td>\n",
              "      <td>UNE FRANCE ROYALE</td>\n",
              "      <td>DE PREVOISIN Robert</td>\n",
              "      <td>0</td>\n",
              "      <td>0</td>\n",
              "      <td>0</td>\n",
              "      <td>3</td>\n",
              "      <td>LA LIGNE CLAIRE</td>\n",
              "      <td>CAMUS Renaud</td>\n",
              "      <td>0</td>\n",
              "      <td>0</td>\n",
              "      <td>0</td>\n",
              "      <td>4</td>\n",
              "      <td>PARTI PIRATE</td>\n",
              "      <td>MARIE Florie</td>\n",
              "      <td>0</td>\n",
              "      <td>0,00</td>\n",
              "      <td>0,00</td>\n",
              "      <td>5</td>\n",
              "      <td>RENAISSANCE</td>\n",
              "      <td>LOISEAU Nathalie</td>\n",
              "      <td>96</td>\n",
              "      <td>9,82</td>\n",
              "      <td>20,00</td>\n",
              "      <td>6</td>\n",
              "      <td>DÉMOCRATIE REPRÉSENTATIVE</td>\n",
              "      <td>TRAORÉ Hamada</td>\n",
              "      <td>0</td>\n",
              "      <td>0</td>\n",
              "      <td>0</td>\n",
              "      <td>7</td>\n",
              "      <td>ENSEMBLE PATRIOTES</td>\n",
              "      <td>PHILIPPOT Florian</td>\n",
              "      <td>3</td>\n",
              "      <td>0,31</td>\n",
              "      <td>0,63</td>\n",
              "      <td>8</td>\n",
              "      <td>...</td>\n",
              "      <td>NEUTRE ET ACTIF</td>\n",
              "      <td>CORBET Cathy Denise Ginette</td>\n",
              "      <td>0</td>\n",
              "      <td>0</td>\n",
              "      <td>0</td>\n",
              "      <td>25</td>\n",
              "      <td>RÉVOLUTIONNAIRE</td>\n",
              "      <td>SANCHEZ Antonio</td>\n",
              "      <td>0</td>\n",
              "      <td>0</td>\n",
              "      <td>0</td>\n",
              "      <td>26</td>\n",
              "      <td>ESPERANTO</td>\n",
              "      <td>DIEUMEGARD Pierre</td>\n",
              "      <td>0</td>\n",
              "      <td>0,00</td>\n",
              "      <td>0,00</td>\n",
              "      <td>27</td>\n",
              "      <td>ÉVOLUTION CITOYENNE</td>\n",
              "      <td>CHALENÇON Christophe</td>\n",
              "      <td>0</td>\n",
              "      <td>0</td>\n",
              "      <td>0</td>\n",
              "      <td>28</td>\n",
              "      <td>ALLIANCE JAUNE</td>\n",
              "      <td>LALANNE Francis</td>\n",
              "      <td>3</td>\n",
              "      <td>0,31</td>\n",
              "      <td>0,63</td>\n",
              "      <td>29</td>\n",
              "      <td>UNION DROITE-CENTRE</td>\n",
              "      <td>BELLAMY François-Xavier</td>\n",
              "      <td>50</td>\n",
              "      <td>5,11</td>\n",
              "      <td>10,42</td>\n",
              "      <td>30</td>\n",
              "      <td>EUROPE ÉCOLOGIE</td>\n",
              "      <td>JADOT Yannick</td>\n",
              "      <td>66</td>\n",
              "      <td>6,75</td>\n",
              "      <td>13,75</td>\n",
              "      <td>31</td>\n",
              "      <td>PARTI ANIMALISTE</td>\n",
              "      <td>THOUY Hélène</td>\n",
              "      <td>7</td>\n",
              "      <td>0,72</td>\n",
              "      <td>1,46</td>\n",
              "      <td>32</td>\n",
              "      <td>LES OUBLIES DE L'EUROPE</td>\n",
              "      <td>BIDOU Olivier</td>\n",
              "      <td>2</td>\n",
              "      <td>0,20</td>\n",
              "      <td>0,42</td>\n",
              "      <td>33</td>\n",
              "      <td>UDLEF</td>\n",
              "      <td>PERSON Christian Luc</td>\n",
              "      <td>0</td>\n",
              "      <td>0</td>\n",
              "      <td>0</td>\n",
              "      <td>34</td>\n",
              "      <td>EUROPE AU SERVICE PEUPLES</td>\n",
              "      <td>AZERGUI Nagib</td>\n",
              "      <td>1</td>\n",
              "      <td>0,10</td>\n",
              "      <td>0,21</td>\n",
              "    </tr>\n",
              "  </tbody>\n",
              "</table>\n",
              "<p>1 rows × 226 columns</p>\n",
              "</div>"
            ],
            "text/plain": [
              "  Code_INSEE Code_commune Code du département Libellé du département  \\\n",
              "0      01004        01004                  01                    Ain   \n",
              "\n",
              "  Code de la commune Libellé de la commune Code du bvote  \\\n",
              "0                004     Ambérieu-en-Bugey          0008   \n",
              "\n",
              "  Code du bvote_sans 0 devant Inscrits Abstentions % Abs/Ins Votants  \\\n",
              "0                           8      978         476     48,67     502   \n",
              "\n",
              "  % Vot/Ins Blancs % Blancs/Ins % Blancs/Vot Nuls % Nuls/Ins % Nuls/Vot  \\\n",
              "0     51,33     16         1,64         3,19    6       0,61       1,20   \n",
              "\n",
              "  Exprimés % Exp/Ins % Exp/Vot N°Liste_1 Libellé Abrégé Liste_1  \\\n",
              "0      480     49,08     95,62         1    LA FRANCE INSOUMISE   \n",
              "\n",
              "  Nom Tête de Liste_1 Voix_1 % Voix/Ins_1 % Voix/Exp_1 N°Liste_2  \\\n",
              "0         AUBRY Manon     35         3,58         7,29         2   \n",
              "\n",
              "  Libellé Abrégé Liste_2  Nom Tête de Liste_2 Voix_2 % Voix/Ins_2  \\\n",
              "0      UNE FRANCE ROYALE  DE PREVOISIN Robert      0            0   \n",
              "\n",
              "  % Voix/Exp_2 N°Liste_3 Libellé Abrégé Liste_3 Nom Tête de Liste_3 Voix_3  \\\n",
              "0            0         3        LA LIGNE CLAIRE        CAMUS Renaud      0   \n",
              "\n",
              "  % Voix/Ins_3 % Voix/Exp_3 N°Liste_4 Libellé Abrégé Liste_4  \\\n",
              "0            0            0         4           PARTI PIRATE   \n",
              "\n",
              "  Nom Tête de Liste_4 Voix_4 % Voix/Ins_4 % Voix/Exp_4 N°Liste_5  \\\n",
              "0        MARIE Florie      0         0,00         0,00         5   \n",
              "\n",
              "  Libellé Abrégé Liste_5 Nom Tête de Liste_5 Voix_5 % Voix/Ins_5 % Voix/Exp_5  \\\n",
              "0            RENAISSANCE    LOISEAU Nathalie     96         9,82        20,00   \n",
              "\n",
              "  N°Liste_6     Libellé Abrégé Liste_6 Nom Tête de Liste_6 Voix_6  \\\n",
              "0         6  DÉMOCRATIE REPRÉSENTATIVE       TRAORÉ Hamada      0   \n",
              "\n",
              "  % Voix/Ins_6 % Voix/Exp_6 N°Liste_7 Libellé Abrégé Liste_7  \\\n",
              "0            0            0         7     ENSEMBLE PATRIOTES   \n",
              "\n",
              "  Nom Tête de Liste_7 Voix_7 % Voix/Ins_7 % Voix/Exp_7 N°Liste_8  ...  \\\n",
              "0   PHILIPPOT Florian      3         0,31         0,63         8  ...   \n",
              "\n",
              "  Libellé Abrégé Liste_24         Nom Tête de Liste_24 Voix_24 % Voix/Ins_24  \\\n",
              "0         NEUTRE ET ACTIF  CORBET Cathy Denise Ginette       0             0   \n",
              "\n",
              "  % Voix/Exp_24 N°Liste_25 Libellé Abrégé Liste_25 Nom Tête de Liste_25  \\\n",
              "0             0         25         RÉVOLUTIONNAIRE      SANCHEZ Antonio   \n",
              "\n",
              "  Voix_25 % Voix/Ins_25 % Voix/Exp_25 N°Liste_26 Libellé Abrégé Liste_26  \\\n",
              "0       0             0             0         26               ESPERANTO   \n",
              "\n",
              "  Nom Tête de Liste_26 Voix_26 % Voix/Ins_26 % Voix/Exp_26 N°Liste_27  \\\n",
              "0    DIEUMEGARD Pierre       0          0,00          0,00         27   \n",
              "\n",
              "  Libellé Abrégé Liste_27  Nom Tête de Liste_27 Voix_27 % Voix/Ins_27  \\\n",
              "0     ÉVOLUTION CITOYENNE  CHALENÇON Christophe       0             0   \n",
              "\n",
              "  % Voix/Exp_27 N°Liste_28 Libellé Abrégé Liste_28 Nom Tête de Liste_28  \\\n",
              "0             0         28          ALLIANCE JAUNE      LALANNE Francis   \n",
              "\n",
              "  Voix_28 % Voix/Ins_28 % Voix/Exp_28 N°Liste_29 Libellé Abrégé Liste_29  \\\n",
              "0       3          0,31          0,63         29     UNION DROITE-CENTRE   \n",
              "\n",
              "      Nom Tête de Liste_29 Voix_29 % Voix/Ins_29 % Voix/Exp_29 N°Liste_30  \\\n",
              "0  BELLAMY François-Xavier      50          5,11         10,42         30   \n",
              "\n",
              "  Libellé Abrégé Liste_30 Nom Tête de Liste_30 Voix_30 % Voix/Ins_30  \\\n",
              "0         EUROPE ÉCOLOGIE        JADOT Yannick      66          6,75   \n",
              "\n",
              "  % Voix/Exp_30 N°Liste_31 Libellé Abrégé Liste_31 Nom Tête de Liste_31  \\\n",
              "0         13,75         31        PARTI ANIMALISTE         THOUY Hélène   \n",
              "\n",
              "  Voix_31 % Voix/Ins_31 % Voix/Exp_31 N°Liste_32  Libellé Abrégé Liste_32  \\\n",
              "0       7          0,72          1,46         32  LES OUBLIES DE L'EUROPE   \n",
              "\n",
              "  Nom Tête de Liste_32 Voix_32 % Voix/Ins_32 % Voix/Exp_32 N°Liste_33  \\\n",
              "0        BIDOU Olivier       2          0,20          0,42         33   \n",
              "\n",
              "  Libellé Abrégé Liste_33  Nom Tête de Liste_33 Voix_33 % Voix/Ins_33  \\\n",
              "0                   UDLEF  PERSON Christian Luc       0             0   \n",
              "\n",
              "  % Voix/Exp_33 N°Liste_34    Libellé Abrégé Liste_34 Nom Tête de Liste_34  \\\n",
              "0             0         34  EUROPE AU SERVICE PEUPLES        AZERGUI Nagib   \n",
              "\n",
              "  Voix_34 % Voix/Ins_34 % Voix/Exp_34  \n",
              "0       1          0,10          0,21  \n",
              "\n",
              "[1 rows x 226 columns]"
            ]
          },
          "execution_count": 15,
          "metadata": {},
          "output_type": "execute_result"
        }
      ]
    },
    {
      "cell_type": "code",
      "metadata": {
        "id": "e15a6575",
        "outputId": "c1ddd580-6266-405c-aee0-5ffb34f0409f"
      },
      "source": [
        "# EFFACER LES BV A L'ETRANGER\n",
        "liste_a_effacer=[\"ZD\",\"ZA\",\"ZB\",\"ZN\",\"ZP\",\"ZZ\",\"ZM\",\"ZC\",\"ZX\",\"ZS\",\"ZW\"]\n",
        "inscrit_etranger=0\n",
        "for i in liste_a_effacer:\n",
        "    inscrit_etranger = inscrit_etranger + bv_euro[bv_euro[\"Code du département\"]==i][\"Inscrits\"].astype(int).sum()\n",
        "    bv_euro = bv_euro[bv_euro[\"Code du département\"]!=i]\n",
        "bv_euro.shape, inscrit_etranger"
      ],
      "id": "e15a6575",
      "execution_count": null,
      "outputs": [
        {
          "data": {
            "text/plain": [
              "((66578, 226), 3114713)"
            ]
          },
          "execution_count": 16,
          "metadata": {},
          "output_type": "execute_result"
        }
      ]
    },
    {
      "cell_type": "code",
      "metadata": {
        "id": "2eaa09f3",
        "outputId": "5327dc51-87ba-4684-a393-2b207c512eae"
      },
      "source": [
        "## DROP COLONNES\n",
        "bv_euro = bv_euro.iloc[:,:22]\n",
        "bv_euro.head(1)"
      ],
      "id": "2eaa09f3",
      "execution_count": null,
      "outputs": [
        {
          "data": {
            "text/html": [
              "<div>\n",
              "<style scoped>\n",
              "    .dataframe tbody tr th:only-of-type {\n",
              "        vertical-align: middle;\n",
              "    }\n",
              "\n",
              "    .dataframe tbody tr th {\n",
              "        vertical-align: top;\n",
              "    }\n",
              "\n",
              "    .dataframe thead th {\n",
              "        text-align: right;\n",
              "    }\n",
              "</style>\n",
              "<table border=\"1\" class=\"dataframe\">\n",
              "  <thead>\n",
              "    <tr style=\"text-align: right;\">\n",
              "      <th></th>\n",
              "      <th>Code_INSEE</th>\n",
              "      <th>Code_commune</th>\n",
              "      <th>Code du département</th>\n",
              "      <th>Libellé du département</th>\n",
              "      <th>Code de la commune</th>\n",
              "      <th>Libellé de la commune</th>\n",
              "      <th>Code du bvote</th>\n",
              "      <th>Code du bvote_sans 0 devant</th>\n",
              "      <th>Inscrits</th>\n",
              "      <th>Abstentions</th>\n",
              "      <th>% Abs/Ins</th>\n",
              "      <th>Votants</th>\n",
              "      <th>% Vot/Ins</th>\n",
              "      <th>Blancs</th>\n",
              "      <th>% Blancs/Ins</th>\n",
              "      <th>% Blancs/Vot</th>\n",
              "      <th>Nuls</th>\n",
              "      <th>% Nuls/Ins</th>\n",
              "      <th>% Nuls/Vot</th>\n",
              "      <th>Exprimés</th>\n",
              "      <th>% Exp/Ins</th>\n",
              "      <th>% Exp/Vot</th>\n",
              "    </tr>\n",
              "  </thead>\n",
              "  <tbody>\n",
              "    <tr>\n",
              "      <th>0</th>\n",
              "      <td>01004</td>\n",
              "      <td>01004</td>\n",
              "      <td>01</td>\n",
              "      <td>Ain</td>\n",
              "      <td>004</td>\n",
              "      <td>Ambérieu-en-Bugey</td>\n",
              "      <td>0008</td>\n",
              "      <td>8</td>\n",
              "      <td>978</td>\n",
              "      <td>476</td>\n",
              "      <td>48,67</td>\n",
              "      <td>502</td>\n",
              "      <td>51,33</td>\n",
              "      <td>16</td>\n",
              "      <td>1,64</td>\n",
              "      <td>3,19</td>\n",
              "      <td>6</td>\n",
              "      <td>0,61</td>\n",
              "      <td>1,20</td>\n",
              "      <td>480</td>\n",
              "      <td>49,08</td>\n",
              "      <td>95,62</td>\n",
              "    </tr>\n",
              "  </tbody>\n",
              "</table>\n",
              "</div>"
            ],
            "text/plain": [
              "  Code_INSEE Code_commune Code du département Libellé du département  \\\n",
              "0      01004        01004                  01                    Ain   \n",
              "\n",
              "  Code de la commune Libellé de la commune Code du bvote  \\\n",
              "0                004     Ambérieu-en-Bugey          0008   \n",
              "\n",
              "  Code du bvote_sans 0 devant Inscrits Abstentions % Abs/Ins Votants  \\\n",
              "0                           8      978         476     48,67     502   \n",
              "\n",
              "  % Vot/Ins Blancs % Blancs/Ins % Blancs/Vot Nuls % Nuls/Ins % Nuls/Vot  \\\n",
              "0     51,33     16         1,64         3,19    6       0,61       1,20   \n",
              "\n",
              "  Exprimés % Exp/Ins % Exp/Vot  \n",
              "0      480     49,08     95,62  "
            ]
          },
          "execution_count": 17,
          "metadata": {},
          "output_type": "execute_result"
        }
      ]
    },
    {
      "cell_type": "code",
      "metadata": {
        "id": "4bbb48c2",
        "outputId": "10b74244-803b-403e-b52a-fe61b8dc2b52"
      },
      "source": [
        "bv_euro[\"CHR_CODE\"] = bv_euro[\"Code_commune\"]+bv_euro[\"Code du bvote_sans 0 devant\"]\n",
        "bv_euro.head(1)"
      ],
      "id": "4bbb48c2",
      "execution_count": null,
      "outputs": [
        {
          "data": {
            "text/html": [
              "<div>\n",
              "<style scoped>\n",
              "    .dataframe tbody tr th:only-of-type {\n",
              "        vertical-align: middle;\n",
              "    }\n",
              "\n",
              "    .dataframe tbody tr th {\n",
              "        vertical-align: top;\n",
              "    }\n",
              "\n",
              "    .dataframe thead th {\n",
              "        text-align: right;\n",
              "    }\n",
              "</style>\n",
              "<table border=\"1\" class=\"dataframe\">\n",
              "  <thead>\n",
              "    <tr style=\"text-align: right;\">\n",
              "      <th></th>\n",
              "      <th>Code_INSEE</th>\n",
              "      <th>Code_commune</th>\n",
              "      <th>Code du département</th>\n",
              "      <th>Libellé du département</th>\n",
              "      <th>Code de la commune</th>\n",
              "      <th>Libellé de la commune</th>\n",
              "      <th>Code du bvote</th>\n",
              "      <th>Code du bvote_sans 0 devant</th>\n",
              "      <th>Inscrits</th>\n",
              "      <th>Abstentions</th>\n",
              "      <th>% Abs/Ins</th>\n",
              "      <th>Votants</th>\n",
              "      <th>% Vot/Ins</th>\n",
              "      <th>Blancs</th>\n",
              "      <th>% Blancs/Ins</th>\n",
              "      <th>% Blancs/Vot</th>\n",
              "      <th>Nuls</th>\n",
              "      <th>% Nuls/Ins</th>\n",
              "      <th>% Nuls/Vot</th>\n",
              "      <th>Exprimés</th>\n",
              "      <th>% Exp/Ins</th>\n",
              "      <th>% Exp/Vot</th>\n",
              "      <th>CHR_CODE</th>\n",
              "    </tr>\n",
              "  </thead>\n",
              "  <tbody>\n",
              "    <tr>\n",
              "      <th>0</th>\n",
              "      <td>01004</td>\n",
              "      <td>01004</td>\n",
              "      <td>01</td>\n",
              "      <td>Ain</td>\n",
              "      <td>004</td>\n",
              "      <td>Ambérieu-en-Bugey</td>\n",
              "      <td>0008</td>\n",
              "      <td>8</td>\n",
              "      <td>978</td>\n",
              "      <td>476</td>\n",
              "      <td>48,67</td>\n",
              "      <td>502</td>\n",
              "      <td>51,33</td>\n",
              "      <td>16</td>\n",
              "      <td>1,64</td>\n",
              "      <td>3,19</td>\n",
              "      <td>6</td>\n",
              "      <td>0,61</td>\n",
              "      <td>1,20</td>\n",
              "      <td>480</td>\n",
              "      <td>49,08</td>\n",
              "      <td>95,62</td>\n",
              "      <td>010048</td>\n",
              "    </tr>\n",
              "  </tbody>\n",
              "</table>\n",
              "</div>"
            ],
            "text/plain": [
              "  Code_INSEE Code_commune Code du département Libellé du département  \\\n",
              "0      01004        01004                  01                    Ain   \n",
              "\n",
              "  Code de la commune Libellé de la commune Code du bvote  \\\n",
              "0                004     Ambérieu-en-Bugey          0008   \n",
              "\n",
              "  Code du bvote_sans 0 devant Inscrits Abstentions % Abs/Ins Votants  \\\n",
              "0                           8      978         476     48,67     502   \n",
              "\n",
              "  % Vot/Ins Blancs % Blancs/Ins % Blancs/Vot Nuls % Nuls/Ins % Nuls/Vot  \\\n",
              "0     51,33     16         1,64         3,19    6       0,61       1,20   \n",
              "\n",
              "  Exprimés % Exp/Ins % Exp/Vot CHR_CODE  \n",
              "0      480     49,08     95,62   010048  "
            ]
          },
          "execution_count": 18,
          "metadata": {},
          "output_type": "execute_result"
        }
      ]
    },
    {
      "cell_type": "code",
      "metadata": {
        "id": "123ee0ed"
      },
      "source": [
        "\n"
      ],
      "id": "123ee0ed",
      "execution_count": null,
      "outputs": []
    },
    {
      "cell_type": "code",
      "metadata": {
        "scrolled": false,
        "id": "92a974db",
        "outputId": "b685110a-426d-44e3-c687-028b1a007dd1"
      },
      "source": [
        "jointure_interne = louis_sans_nan_doublons_sup_97501.merge(bv_euro, on = \"CHR_CODE\")\n",
        "jointure_interne"
      ],
      "id": "92a974db",
      "execution_count": null,
      "outputs": [
        {
          "data": {
            "text/html": [
              "<div>\n",
              "<style scoped>\n",
              "    .dataframe tbody tr th:only-of-type {\n",
              "        vertical-align: middle;\n",
              "    }\n",
              "\n",
              "    .dataframe tbody tr th {\n",
              "        vertical-align: top;\n",
              "    }\n",
              "\n",
              "    .dataframe thead th {\n",
              "        text-align: right;\n",
              "    }\n",
              "</style>\n",
              "<table border=\"1\" class=\"dataframe\">\n",
              "  <thead>\n",
              "    <tr style=\"text-align: right;\">\n",
              "      <th></th>\n",
              "      <th>commune_code</th>\n",
              "      <th>libelle</th>\n",
              "      <th>code</th>\n",
              "      <th>code_corr</th>\n",
              "      <th>Code du bvote_x</th>\n",
              "      <th>Code du bvote_sans 0 devant_x</th>\n",
              "      <th>libelle_bv</th>\n",
              "      <th>num_voie</th>\n",
              "      <th>voie</th>\n",
              "      <th>complement1</th>\n",
              "      <th>complement2</th>\n",
              "      <th>lieu_dit</th>\n",
              "      <th>code_postal</th>\n",
              "      <th>commune</th>\n",
              "      <th>canton_code</th>\n",
              "      <th>circonscription_code</th>\n",
              "      <th>longitude</th>\n",
              "      <th>latitude</th>\n",
              "      <th>geo_score</th>\n",
              "      <th>geo_type</th>\n",
              "      <th>geo_adresse</th>\n",
              "      <th>geo_id</th>\n",
              "      <th>geo_ligne</th>\n",
              "      <th>geo_l4</th>\n",
              "      <th>geo_l5</th>\n",
              "      <th>CHR_CODE</th>\n",
              "      <th>Code_INSEE</th>\n",
              "      <th>Code_commune</th>\n",
              "      <th>Code du département</th>\n",
              "      <th>Libellé du département</th>\n",
              "      <th>Code de la commune</th>\n",
              "      <th>Libellé de la commune</th>\n",
              "      <th>Code du bvote_y</th>\n",
              "      <th>Code du bvote_sans 0 devant_y</th>\n",
              "      <th>Inscrits</th>\n",
              "      <th>Abstentions</th>\n",
              "      <th>% Abs/Ins</th>\n",
              "      <th>Votants</th>\n",
              "      <th>% Vot/Ins</th>\n",
              "      <th>Blancs</th>\n",
              "      <th>% Blancs/Ins</th>\n",
              "      <th>% Blancs/Vot</th>\n",
              "      <th>Nuls</th>\n",
              "      <th>% Nuls/Ins</th>\n",
              "      <th>% Nuls/Vot</th>\n",
              "      <th>Exprimés</th>\n",
              "      <th>% Exp/Ins</th>\n",
              "      <th>% Exp/Vot</th>\n",
              "    </tr>\n",
              "  </thead>\n",
              "  <tbody>\n",
              "    <tr>\n",
              "      <th>0</th>\n",
              "      <td>59350</td>\n",
              "      <td>Lille</td>\n",
              "      <td>807</td>\n",
              "      <td>NaN</td>\n",
              "      <td>0807</td>\n",
              "      <td>807</td>\n",
              "      <td>ECOLE AMPERE</td>\n",
              "      <td>64</td>\n",
              "      <td>RUE D'IENA</td>\n",
              "      <td>NaN</td>\n",
              "      <td>NaN</td>\n",
              "      <td>NaN</td>\n",
              "      <td>59000</td>\n",
              "      <td>LILLE</td>\n",
              "      <td>59-27</td>\n",
              "      <td>59-11</td>\n",
              "      <td>3.043027</td>\n",
              "      <td>50.621124</td>\n",
              "      <td>0.96</td>\n",
              "      <td>street</td>\n",
              "      <td>Rue d'Iena 59000 Lille</td>\n",
              "      <td>59350_4658</td>\n",
              "      <td>G</td>\n",
              "      <td>RUE D IENA</td>\n",
              "      <td>NaN</td>\n",
              "      <td>59350807</td>\n",
              "      <td>59350</td>\n",
              "      <td>59350</td>\n",
              "      <td>59</td>\n",
              "      <td>Nord</td>\n",
              "      <td>350</td>\n",
              "      <td>Lille</td>\n",
              "      <td>0807</td>\n",
              "      <td>807</td>\n",
              "      <td>1476</td>\n",
              "      <td>956</td>\n",
              "      <td>64,77</td>\n",
              "      <td>520</td>\n",
              "      <td>35,23</td>\n",
              "      <td>5</td>\n",
              "      <td>0,34</td>\n",
              "      <td>0,96</td>\n",
              "      <td>5</td>\n",
              "      <td>0,34</td>\n",
              "      <td>0,96</td>\n",
              "      <td>510</td>\n",
              "      <td>34,55</td>\n",
              "      <td>98,08</td>\n",
              "    </tr>\n",
              "    <tr>\n",
              "      <th>1</th>\n",
              "      <td>50502</td>\n",
              "      <td>Saint-Lô</td>\n",
              "      <td>008</td>\n",
              "      <td>NaN</td>\n",
              "      <td>0008</td>\n",
              "      <td>8</td>\n",
              "      <td>HARAS-Ecurie n°5 (BV 08)</td>\n",
              "      <td>NaN</td>\n",
              "      <td>Rue de la Goubedière</td>\n",
              "      <td>HARAS-Ecurie n°5</td>\n",
              "      <td>NaN</td>\n",
              "      <td>NaN</td>\n",
              "      <td>50000</td>\n",
              "      <td>SAINT LO</td>\n",
              "      <td>50-23</td>\n",
              "      <td>50-01</td>\n",
              "      <td>-1.074428</td>\n",
              "      <td>49.117378</td>\n",
              "      <td>0.95</td>\n",
              "      <td>street</td>\n",
              "      <td>Rue de la Goubediere 50000 Saint-Lô</td>\n",
              "      <td>50502_1162</td>\n",
              "      <td>G</td>\n",
              "      <td>RUE DE LA GOUBEDIERE</td>\n",
              "      <td>NaN</td>\n",
              "      <td>505028</td>\n",
              "      <td>50502</td>\n",
              "      <td>50502</td>\n",
              "      <td>50</td>\n",
              "      <td>Manche</td>\n",
              "      <td>502</td>\n",
              "      <td>Saint-Lô</td>\n",
              "      <td>0008</td>\n",
              "      <td>8</td>\n",
              "      <td>815</td>\n",
              "      <td>470</td>\n",
              "      <td>57,67</td>\n",
              "      <td>345</td>\n",
              "      <td>42,33</td>\n",
              "      <td>3</td>\n",
              "      <td>0,37</td>\n",
              "      <td>0,87</td>\n",
              "      <td>13</td>\n",
              "      <td>1,60</td>\n",
              "      <td>3,77</td>\n",
              "      <td>329</td>\n",
              "      <td>40,37</td>\n",
              "      <td>95,36</td>\n",
              "    </tr>\n",
              "    <tr>\n",
              "      <th>2</th>\n",
              "      <td>56121</td>\n",
              "      <td>Lorient</td>\n",
              "      <td>11</td>\n",
              "      <td>NaN</td>\n",
              "      <td>0011</td>\n",
              "      <td>11</td>\n",
              "      <td>GROUPE SCOLAIRE MERVILLE</td>\n",
              "      <td>1</td>\n",
              "      <td>AVENUE DE LA MARNE</td>\n",
              "      <td>NaN</td>\n",
              "      <td>NaN</td>\n",
              "      <td>NaN</td>\n",
              "      <td>56100</td>\n",
              "      <td>LORIENT</td>\n",
              "      <td>56-09</td>\n",
              "      <td>56-05</td>\n",
              "      <td>-3.36822</td>\n",
              "      <td>47.744513</td>\n",
              "      <td>0.96</td>\n",
              "      <td>housenumber</td>\n",
              "      <td>1 Avenue de la Marne 56100 Lorient</td>\n",
              "      <td>56121_3890_00001</td>\n",
              "      <td>G</td>\n",
              "      <td>1 AVENUE DE LA MARNE</td>\n",
              "      <td>NaN</td>\n",
              "      <td>5612111</td>\n",
              "      <td>56121</td>\n",
              "      <td>56121</td>\n",
              "      <td>56</td>\n",
              "      <td>Morbihan</td>\n",
              "      <td>121</td>\n",
              "      <td>Lorient</td>\n",
              "      <td>0011</td>\n",
              "      <td>11</td>\n",
              "      <td>868</td>\n",
              "      <td>374</td>\n",
              "      <td>43,09</td>\n",
              "      <td>494</td>\n",
              "      <td>56,91</td>\n",
              "      <td>3</td>\n",
              "      <td>0,35</td>\n",
              "      <td>0,61</td>\n",
              "      <td>3</td>\n",
              "      <td>0,35</td>\n",
              "      <td>0,61</td>\n",
              "      <td>488</td>\n",
              "      <td>56,22</td>\n",
              "      <td>98,79</td>\n",
              "    </tr>\n",
              "    <tr>\n",
              "      <th>3</th>\n",
              "      <td>76558</td>\n",
              "      <td>Saint-Aubin-Celloville</td>\n",
              "      <td>1</td>\n",
              "      <td>NaN</td>\n",
              "      <td>0001</td>\n",
              "      <td>1</td>\n",
              "      <td>Bureau 1</td>\n",
              "      <td>NaN</td>\n",
              "      <td>Mairie de SAINT-AUBIN-CELLOVILLE</td>\n",
              "      <td>NaN</td>\n",
              "      <td>NaN</td>\n",
              "      <td>NaN</td>\n",
              "      <td>76520</td>\n",
              "      <td>SAINT-AUBIN-CELLOVILLE</td>\n",
              "      <td>76-06</td>\n",
              "      <td>76-02</td>\n",
              "      <td>1.156093</td>\n",
              "      <td>49.365456</td>\n",
              "      <td>0.92</td>\n",
              "      <td>street</td>\n",
              "      <td>Place de la Mairie 76520 Saint-Aubin-Celloville</td>\n",
              "      <td>76558_0035</td>\n",
              "      <td>G</td>\n",
              "      <td>PLACE DE LA MAIRIE</td>\n",
              "      <td>NaN</td>\n",
              "      <td>765581</td>\n",
              "      <td>76558</td>\n",
              "      <td>76558</td>\n",
              "      <td>76</td>\n",
              "      <td>Seine-Maritime</td>\n",
              "      <td>558</td>\n",
              "      <td>Saint-Aubin-Celloville</td>\n",
              "      <td>0001</td>\n",
              "      <td>1</td>\n",
              "      <td>808</td>\n",
              "      <td>326</td>\n",
              "      <td>40,35</td>\n",
              "      <td>482</td>\n",
              "      <td>59,65</td>\n",
              "      <td>15</td>\n",
              "      <td>1,86</td>\n",
              "      <td>3,11</td>\n",
              "      <td>6</td>\n",
              "      <td>0,74</td>\n",
              "      <td>1,24</td>\n",
              "      <td>461</td>\n",
              "      <td>57,05</td>\n",
              "      <td>95,64</td>\n",
              "    </tr>\n",
              "    <tr>\n",
              "      <th>4</th>\n",
              "      <td>70407</td>\n",
              "      <td>Perrouse</td>\n",
              "      <td>1</td>\n",
              "      <td>NaN</td>\n",
              "      <td>0001</td>\n",
              "      <td>1</td>\n",
              "      <td>BUREAU UNIQUE</td>\n",
              "      <td>NaN</td>\n",
              "      <td>Mairie de PERROUSE</td>\n",
              "      <td>NaN</td>\n",
              "      <td>NaN</td>\n",
              "      <td>NaN</td>\n",
              "      <td>70190</td>\n",
              "      <td>PERROUSE</td>\n",
              "      <td>70-12</td>\n",
              "      <td>70-01</td>\n",
              "      <td>6.050185</td>\n",
              "      <td>47.361279</td>\n",
              "      <td>0.9</td>\n",
              "      <td>street</td>\n",
              "      <td>Rue de la Mairie 70190 Perrouse</td>\n",
              "      <td>70407_0045</td>\n",
              "      <td>G</td>\n",
              "      <td>RUE DE LA MAIRIE</td>\n",
              "      <td>NaN</td>\n",
              "      <td>704071</td>\n",
              "      <td>70407</td>\n",
              "      <td>70407</td>\n",
              "      <td>70</td>\n",
              "      <td>Haute-Saône</td>\n",
              "      <td>407</td>\n",
              "      <td>Perrouse</td>\n",
              "      <td>0001</td>\n",
              "      <td>1</td>\n",
              "      <td>208</td>\n",
              "      <td>81</td>\n",
              "      <td>38,94</td>\n",
              "      <td>127</td>\n",
              "      <td>61,06</td>\n",
              "      <td>4</td>\n",
              "      <td>1,92</td>\n",
              "      <td>3,15</td>\n",
              "      <td>2</td>\n",
              "      <td>0,96</td>\n",
              "      <td>1,57</td>\n",
              "      <td>121</td>\n",
              "      <td>58,17</td>\n",
              "      <td>95,28</td>\n",
              "    </tr>\n",
              "    <tr>\n",
              "      <th>...</th>\n",
              "      <td>...</td>\n",
              "      <td>...</td>\n",
              "      <td>...</td>\n",
              "      <td>...</td>\n",
              "      <td>...</td>\n",
              "      <td>...</td>\n",
              "      <td>...</td>\n",
              "      <td>...</td>\n",
              "      <td>...</td>\n",
              "      <td>...</td>\n",
              "      <td>...</td>\n",
              "      <td>...</td>\n",
              "      <td>...</td>\n",
              "      <td>...</td>\n",
              "      <td>...</td>\n",
              "      <td>...</td>\n",
              "      <td>...</td>\n",
              "      <td>...</td>\n",
              "      <td>...</td>\n",
              "      <td>...</td>\n",
              "      <td>...</td>\n",
              "      <td>...</td>\n",
              "      <td>...</td>\n",
              "      <td>...</td>\n",
              "      <td>...</td>\n",
              "      <td>...</td>\n",
              "      <td>...</td>\n",
              "      <td>...</td>\n",
              "      <td>...</td>\n",
              "      <td>...</td>\n",
              "      <td>...</td>\n",
              "      <td>...</td>\n",
              "      <td>...</td>\n",
              "      <td>...</td>\n",
              "      <td>...</td>\n",
              "      <td>...</td>\n",
              "      <td>...</td>\n",
              "      <td>...</td>\n",
              "      <td>...</td>\n",
              "      <td>...</td>\n",
              "      <td>...</td>\n",
              "      <td>...</td>\n",
              "      <td>...</td>\n",
              "      <td>...</td>\n",
              "      <td>...</td>\n",
              "      <td>...</td>\n",
              "      <td>...</td>\n",
              "      <td>...</td>\n",
              "    </tr>\n",
              "    <tr>\n",
              "      <th>57431</th>\n",
              "      <td>77412</td>\n",
              "      <td>Saint-Germain-sur-École</td>\n",
              "      <td>1</td>\n",
              "      <td>NaN</td>\n",
              "      <td>0001</td>\n",
              "      <td>1</td>\n",
              "      <td>MAIRIE</td>\n",
              "      <td>NaN</td>\n",
              "      <td>Chemin des Portes</td>\n",
              "      <td>77930 SAINT GERMAIN SUR ECOLE</td>\n",
              "      <td>NaN</td>\n",
              "      <td>NaN</td>\n",
              "      <td>77930</td>\n",
              "      <td>SAINT-GERMAIN-SUR-ÉCOLE</td>\n",
              "      <td>77-07</td>\n",
              "      <td>77-01</td>\n",
              "      <td>2.509938</td>\n",
              "      <td>48.474254</td>\n",
              "      <td>0.93</td>\n",
              "      <td>street</td>\n",
              "      <td>Chemin des Portes 77930 Saint-Germain-sur-École</td>\n",
              "      <td>77412_0240</td>\n",
              "      <td>G</td>\n",
              "      <td>CHEMIN DES PORTES</td>\n",
              "      <td>NaN</td>\n",
              "      <td>774121</td>\n",
              "      <td>77412</td>\n",
              "      <td>77412</td>\n",
              "      <td>77</td>\n",
              "      <td>Seine-et-Marne</td>\n",
              "      <td>412</td>\n",
              "      <td>Saint-Germain-sur-Ecole</td>\n",
              "      <td>0001</td>\n",
              "      <td>1</td>\n",
              "      <td>295</td>\n",
              "      <td>144</td>\n",
              "      <td>48,81</td>\n",
              "      <td>151</td>\n",
              "      <td>51,19</td>\n",
              "      <td>2</td>\n",
              "      <td>0,68</td>\n",
              "      <td>1,32</td>\n",
              "      <td>1</td>\n",
              "      <td>0,34</td>\n",
              "      <td>0,66</td>\n",
              "      <td>148</td>\n",
              "      <td>50,17</td>\n",
              "      <td>98,01</td>\n",
              "    </tr>\n",
              "    <tr>\n",
              "      <th>57432</th>\n",
              "      <td>67307</td>\n",
              "      <td>Mulhausen</td>\n",
              "      <td>01</td>\n",
              "      <td>NaN</td>\n",
              "      <td>0001</td>\n",
              "      <td>1</td>\n",
              "      <td>Bureau de vote 01</td>\n",
              "      <td>2</td>\n",
              "      <td>rue de la Mairie</td>\n",
              "      <td>NaN</td>\n",
              "      <td>NaN</td>\n",
              "      <td>NaN</td>\n",
              "      <td>67350</td>\n",
              "      <td>MULHAUSEN</td>\n",
              "      <td>67-08</td>\n",
              "      <td>67-07</td>\n",
              "      <td>7.551771</td>\n",
              "      <td>48.882282</td>\n",
              "      <td>0.94</td>\n",
              "      <td>housenumber</td>\n",
              "      <td>2 Rue de la Mairie 67350 Mulhausen</td>\n",
              "      <td>67307_0023_00002</td>\n",
              "      <td>G</td>\n",
              "      <td>2 RUE DE LA MAIRIE</td>\n",
              "      <td>NaN</td>\n",
              "      <td>673071</td>\n",
              "      <td>67307</td>\n",
              "      <td>67307</td>\n",
              "      <td>67</td>\n",
              "      <td>Bas-Rhin</td>\n",
              "      <td>307</td>\n",
              "      <td>Mulhausen</td>\n",
              "      <td>0001</td>\n",
              "      <td>1</td>\n",
              "      <td>353</td>\n",
              "      <td>113</td>\n",
              "      <td>32,01</td>\n",
              "      <td>240</td>\n",
              "      <td>67,99</td>\n",
              "      <td>11</td>\n",
              "      <td>3,12</td>\n",
              "      <td>4,58</td>\n",
              "      <td>6</td>\n",
              "      <td>1,70</td>\n",
              "      <td>2,50</td>\n",
              "      <td>223</td>\n",
              "      <td>63,17</td>\n",
              "      <td>92,92</td>\n",
              "    </tr>\n",
              "    <tr>\n",
              "      <th>57433</th>\n",
              "      <td>02810</td>\n",
              "      <td>Villers-Cotterêts</td>\n",
              "      <td>007</td>\n",
              "      <td>NaN</td>\n",
              "      <td>0007</td>\n",
              "      <td>7</td>\n",
              "      <td>SALLE GERARD PHILIPE 1</td>\n",
              "      <td>NaN</td>\n",
              "      <td>Rue d'Artagnan</td>\n",
              "      <td>NaN</td>\n",
              "      <td>NaN</td>\n",
              "      <td>NaN</td>\n",
              "      <td>02600</td>\n",
              "      <td>VILLERS-COTTERETS</td>\n",
              "      <td>02-21</td>\n",
              "      <td>02-05</td>\n",
              "      <td>3.097397</td>\n",
              "      <td>49.260343</td>\n",
              "      <td>0.95</td>\n",
              "      <td>street</td>\n",
              "      <td>Rue d'Artagnan 02600 Villers-Cotterêts</td>\n",
              "      <td>02810_0051</td>\n",
              "      <td>G</td>\n",
              "      <td>RUE D ARTAGNAN</td>\n",
              "      <td>NaN</td>\n",
              "      <td>028107</td>\n",
              "      <td>02810</td>\n",
              "      <td>02810</td>\n",
              "      <td>02</td>\n",
              "      <td>Aisne</td>\n",
              "      <td>810</td>\n",
              "      <td>Villers-Cotterêts</td>\n",
              "      <td>0007</td>\n",
              "      <td>7</td>\n",
              "      <td>791</td>\n",
              "      <td>501</td>\n",
              "      <td>63,34</td>\n",
              "      <td>290</td>\n",
              "      <td>36,66</td>\n",
              "      <td>6</td>\n",
              "      <td>0,76</td>\n",
              "      <td>2,07</td>\n",
              "      <td>5</td>\n",
              "      <td>0,63</td>\n",
              "      <td>1,72</td>\n",
              "      <td>279</td>\n",
              "      <td>35,27</td>\n",
              "      <td>96,21</td>\n",
              "    </tr>\n",
              "    <tr>\n",
              "      <th>57434</th>\n",
              "      <td>25040</td>\n",
              "      <td>Badevel</td>\n",
              "      <td>1</td>\n",
              "      <td>NaN</td>\n",
              "      <td>0001</td>\n",
              "      <td>1</td>\n",
              "      <td>Mairie</td>\n",
              "      <td>16</td>\n",
              "      <td>Grande Rue</td>\n",
              "      <td>25490 BADEVEL</td>\n",
              "      <td>NaN</td>\n",
              "      <td>NaN</td>\n",
              "      <td>25490</td>\n",
              "      <td>BADEVEL</td>\n",
              "      <td>25-01</td>\n",
              "      <td>25-04</td>\n",
              "      <td>6.939282</td>\n",
              "      <td>47.500913</td>\n",
              "      <td>0.94</td>\n",
              "      <td>housenumber</td>\n",
              "      <td>16 Grande Rue 25490 Badevel</td>\n",
              "      <td>25040_0113_00016</td>\n",
              "      <td>G</td>\n",
              "      <td>16 GRANDE RUE</td>\n",
              "      <td>NaN</td>\n",
              "      <td>250401</td>\n",
              "      <td>25040</td>\n",
              "      <td>25040</td>\n",
              "      <td>25</td>\n",
              "      <td>Doubs</td>\n",
              "      <td>040</td>\n",
              "      <td>Badevel</td>\n",
              "      <td>0001</td>\n",
              "      <td>1</td>\n",
              "      <td>551</td>\n",
              "      <td>256</td>\n",
              "      <td>46,46</td>\n",
              "      <td>295</td>\n",
              "      <td>53,54</td>\n",
              "      <td>19</td>\n",
              "      <td>3,45</td>\n",
              "      <td>6,44</td>\n",
              "      <td>6</td>\n",
              "      <td>1,09</td>\n",
              "      <td>2,03</td>\n",
              "      <td>270</td>\n",
              "      <td>49,00</td>\n",
              "      <td>91,53</td>\n",
              "    </tr>\n",
              "    <tr>\n",
              "      <th>57435</th>\n",
              "      <td>14563</td>\n",
              "      <td>Saint-Benoît-d'Hébertot</td>\n",
              "      <td>001</td>\n",
              "      <td>NaN</td>\n",
              "      <td>0001</td>\n",
              "      <td>1</td>\n",
              "      <td>SAINT BENOIT D'HEBERTOT</td>\n",
              "      <td>185</td>\n",
              "      <td>route de l'Eglise</td>\n",
              "      <td>Mairie</td>\n",
              "      <td>NaN</td>\n",
              "      <td>NaN</td>\n",
              "      <td>14130</td>\n",
              "      <td>SAINT BENOIT D'HEBERTOT</td>\n",
              "      <td>14-21</td>\n",
              "      <td>14-04</td>\n",
              "      <td>0.27055</td>\n",
              "      <td>49.316366</td>\n",
              "      <td>0.62</td>\n",
              "      <td>street</td>\n",
              "      <td>Chemin de l'Eglise 14130 Saint-Benoît-d'Hébertot</td>\n",
              "      <td>14563_396noi</td>\n",
              "      <td>G</td>\n",
              "      <td>CHEMIN DE L EGLISE</td>\n",
              "      <td>NaN</td>\n",
              "      <td>145631</td>\n",
              "      <td>14563</td>\n",
              "      <td>14563</td>\n",
              "      <td>14</td>\n",
              "      <td>Calvados</td>\n",
              "      <td>563</td>\n",
              "      <td>Saint-Benoît-d'Hébertot</td>\n",
              "      <td>0001</td>\n",
              "      <td>1</td>\n",
              "      <td>309</td>\n",
              "      <td>147</td>\n",
              "      <td>47,57</td>\n",
              "      <td>162</td>\n",
              "      <td>52,43</td>\n",
              "      <td>0</td>\n",
              "      <td>0,00</td>\n",
              "      <td>0,00</td>\n",
              "      <td>10</td>\n",
              "      <td>3,24</td>\n",
              "      <td>6,17</td>\n",
              "      <td>152</td>\n",
              "      <td>49,19</td>\n",
              "      <td>93,83</td>\n",
              "    </tr>\n",
              "  </tbody>\n",
              "</table>\n",
              "<p>57436 rows × 48 columns</p>\n",
              "</div>"
            ],
            "text/plain": [
              "      commune_code                  libelle code code_corr Code du bvote_x  \\\n",
              "0            59350                    Lille  807       NaN            0807   \n",
              "1            50502                 Saint-Lô  008       NaN            0008   \n",
              "2            56121                  Lorient   11       NaN            0011   \n",
              "3            76558   Saint-Aubin-Celloville    1       NaN            0001   \n",
              "4            70407                 Perrouse    1       NaN            0001   \n",
              "...            ...                      ...  ...       ...             ...   \n",
              "57431        77412  Saint-Germain-sur-École    1       NaN            0001   \n",
              "57432        67307                Mulhausen   01       NaN            0001   \n",
              "57433        02810        Villers-Cotterêts  007       NaN            0007   \n",
              "57434        25040                  Badevel    1       NaN            0001   \n",
              "57435        14563  Saint-Benoît-d'Hébertot  001       NaN            0001   \n",
              "\n",
              "      Code du bvote_sans 0 devant_x                libelle_bv num_voie  \\\n",
              "0                               807              ECOLE AMPERE       64   \n",
              "1                                 8  HARAS-Ecurie n°5 (BV 08)      NaN   \n",
              "2                                11  GROUPE SCOLAIRE MERVILLE        1   \n",
              "3                                 1                  Bureau 1      NaN   \n",
              "4                                 1             BUREAU UNIQUE      NaN   \n",
              "...                             ...                       ...      ...   \n",
              "57431                             1                    MAIRIE      NaN   \n",
              "57432                             1         Bureau de vote 01        2   \n",
              "57433                             7    SALLE GERARD PHILIPE 1      NaN   \n",
              "57434                             1                    Mairie       16   \n",
              "57435                             1   SAINT BENOIT D'HEBERTOT      185   \n",
              "\n",
              "                                   voie                    complement1  \\\n",
              "0                            RUE D'IENA                            NaN   \n",
              "1                  Rue de la Goubedière               HARAS-Ecurie n°5   \n",
              "2                    AVENUE DE LA MARNE                            NaN   \n",
              "3      Mairie de SAINT-AUBIN-CELLOVILLE                            NaN   \n",
              "4                    Mairie de PERROUSE                            NaN   \n",
              "...                                 ...                            ...   \n",
              "57431                 Chemin des Portes  77930 SAINT GERMAIN SUR ECOLE   \n",
              "57432                  rue de la Mairie                            NaN   \n",
              "57433                    Rue d'Artagnan                            NaN   \n",
              "57434                        Grande Rue                  25490 BADEVEL   \n",
              "57435                 route de l'Eglise                         Mairie   \n",
              "\n",
              "      complement2 lieu_dit code_postal                  commune canton_code  \\\n",
              "0             NaN      NaN       59000                    LILLE       59-27   \n",
              "1             NaN      NaN       50000                 SAINT LO       50-23   \n",
              "2             NaN      NaN       56100                  LORIENT       56-09   \n",
              "3             NaN      NaN       76520   SAINT-AUBIN-CELLOVILLE       76-06   \n",
              "4             NaN      NaN       70190                 PERROUSE       70-12   \n",
              "...           ...      ...         ...                      ...         ...   \n",
              "57431         NaN      NaN       77930  SAINT-GERMAIN-SUR-ÉCOLE       77-07   \n",
              "57432         NaN      NaN       67350                MULHAUSEN       67-08   \n",
              "57433         NaN      NaN       02600        VILLERS-COTTERETS       02-21   \n",
              "57434         NaN      NaN       25490                  BADEVEL       25-01   \n",
              "57435         NaN      NaN       14130  SAINT BENOIT D'HEBERTOT       14-21   \n",
              "\n",
              "      circonscription_code  longitude   latitude geo_score     geo_type  \\\n",
              "0                    59-11   3.043027  50.621124      0.96       street   \n",
              "1                    50-01  -1.074428  49.117378      0.95       street   \n",
              "2                    56-05   -3.36822  47.744513      0.96  housenumber   \n",
              "3                    76-02   1.156093  49.365456      0.92       street   \n",
              "4                    70-01   6.050185  47.361279       0.9       street   \n",
              "...                    ...        ...        ...       ...          ...   \n",
              "57431                77-01   2.509938  48.474254      0.93       street   \n",
              "57432                67-07   7.551771  48.882282      0.94  housenumber   \n",
              "57433                02-05   3.097397  49.260343      0.95       street   \n",
              "57434                25-04   6.939282  47.500913      0.94  housenumber   \n",
              "57435                14-04    0.27055  49.316366      0.62       street   \n",
              "\n",
              "                                            geo_adresse            geo_id  \\\n",
              "0                                Rue d'Iena 59000 Lille        59350_4658   \n",
              "1                   Rue de la Goubediere 50000 Saint-Lô        50502_1162   \n",
              "2                    1 Avenue de la Marne 56100 Lorient  56121_3890_00001   \n",
              "3       Place de la Mairie 76520 Saint-Aubin-Celloville        76558_0035   \n",
              "4                       Rue de la Mairie 70190 Perrouse        70407_0045   \n",
              "...                                                 ...               ...   \n",
              "57431   Chemin des Portes 77930 Saint-Germain-sur-École        77412_0240   \n",
              "57432                2 Rue de la Mairie 67350 Mulhausen  67307_0023_00002   \n",
              "57433            Rue d'Artagnan 02600 Villers-Cotterêts        02810_0051   \n",
              "57434                       16 Grande Rue 25490 Badevel  25040_0113_00016   \n",
              "57435  Chemin de l'Eglise 14130 Saint-Benoît-d'Hébertot      14563_396noi   \n",
              "\n",
              "      geo_ligne                geo_l4 geo_l5  CHR_CODE Code_INSEE  \\\n",
              "0             G            RUE D IENA    NaN  59350807      59350   \n",
              "1             G  RUE DE LA GOUBEDIERE    NaN    505028      50502   \n",
              "2             G  1 AVENUE DE LA MARNE    NaN   5612111      56121   \n",
              "3             G    PLACE DE LA MAIRIE    NaN    765581      76558   \n",
              "4             G      RUE DE LA MAIRIE    NaN    704071      70407   \n",
              "...         ...                   ...    ...       ...        ...   \n",
              "57431         G     CHEMIN DES PORTES    NaN    774121      77412   \n",
              "57432         G    2 RUE DE LA MAIRIE    NaN    673071      67307   \n",
              "57433         G        RUE D ARTAGNAN    NaN    028107      02810   \n",
              "57434         G         16 GRANDE RUE    NaN    250401      25040   \n",
              "57435         G    CHEMIN DE L EGLISE    NaN    145631      14563   \n",
              "\n",
              "      Code_commune Code du département Libellé du département  \\\n",
              "0            59350                  59                   Nord   \n",
              "1            50502                  50                 Manche   \n",
              "2            56121                  56               Morbihan   \n",
              "3            76558                  76         Seine-Maritime   \n",
              "4            70407                  70            Haute-Saône   \n",
              "...            ...                 ...                    ...   \n",
              "57431        77412                  77         Seine-et-Marne   \n",
              "57432        67307                  67               Bas-Rhin   \n",
              "57433        02810                  02                  Aisne   \n",
              "57434        25040                  25                  Doubs   \n",
              "57435        14563                  14               Calvados   \n",
              "\n",
              "      Code de la commune    Libellé de la commune Code du bvote_y  \\\n",
              "0                    350                    Lille            0807   \n",
              "1                    502                 Saint-Lô            0008   \n",
              "2                    121                  Lorient            0011   \n",
              "3                    558   Saint-Aubin-Celloville            0001   \n",
              "4                    407                 Perrouse            0001   \n",
              "...                  ...                      ...             ...   \n",
              "57431                412  Saint-Germain-sur-Ecole            0001   \n",
              "57432                307                Mulhausen            0001   \n",
              "57433                810        Villers-Cotterêts            0007   \n",
              "57434                040                  Badevel            0001   \n",
              "57435                563  Saint-Benoît-d'Hébertot            0001   \n",
              "\n",
              "      Code du bvote_sans 0 devant_y Inscrits Abstentions % Abs/Ins Votants  \\\n",
              "0                               807     1476         956     64,77     520   \n",
              "1                                 8      815         470     57,67     345   \n",
              "2                                11      868         374     43,09     494   \n",
              "3                                 1      808         326     40,35     482   \n",
              "4                                 1      208          81     38,94     127   \n",
              "...                             ...      ...         ...       ...     ...   \n",
              "57431                             1      295         144     48,81     151   \n",
              "57432                             1      353         113     32,01     240   \n",
              "57433                             7      791         501     63,34     290   \n",
              "57434                             1      551         256     46,46     295   \n",
              "57435                             1      309         147     47,57     162   \n",
              "\n",
              "      % Vot/Ins Blancs % Blancs/Ins % Blancs/Vot Nuls % Nuls/Ins % Nuls/Vot  \\\n",
              "0         35,23      5         0,34         0,96    5       0,34       0,96   \n",
              "1         42,33      3         0,37         0,87   13       1,60       3,77   \n",
              "2         56,91      3         0,35         0,61    3       0,35       0,61   \n",
              "3         59,65     15         1,86         3,11    6       0,74       1,24   \n",
              "4         61,06      4         1,92         3,15    2       0,96       1,57   \n",
              "...         ...    ...          ...          ...  ...        ...        ...   \n",
              "57431     51,19      2         0,68         1,32    1       0,34       0,66   \n",
              "57432     67,99     11         3,12         4,58    6       1,70       2,50   \n",
              "57433     36,66      6         0,76         2,07    5       0,63       1,72   \n",
              "57434     53,54     19         3,45         6,44    6       1,09       2,03   \n",
              "57435     52,43      0         0,00         0,00   10       3,24       6,17   \n",
              "\n",
              "      Exprimés % Exp/Ins % Exp/Vot  \n",
              "0          510     34,55     98,08  \n",
              "1          329     40,37     95,36  \n",
              "2          488     56,22     98,79  \n",
              "3          461     57,05     95,64  \n",
              "4          121     58,17     95,28  \n",
              "...        ...       ...       ...  \n",
              "57431      148     50,17     98,01  \n",
              "57432      223     63,17     92,92  \n",
              "57433      279     35,27     96,21  \n",
              "57434      270     49,00     91,53  \n",
              "57435      152     49,19     93,83  \n",
              "\n",
              "[57436 rows x 48 columns]"
            ]
          },
          "execution_count": 19,
          "metadata": {},
          "output_type": "execute_result"
        }
      ]
    },
    {
      "cell_type": "code",
      "metadata": {
        "id": "1f7a9ba7",
        "outputId": "09568384-143b-4b3d-df0d-2315325fcbd7"
      },
      "source": [
        "data_louis_orig.shape, bv_euro.shape"
      ],
      "id": "1f7a9ba7",
      "execution_count": null,
      "outputs": [
        {
          "data": {
            "text/plain": [
              "((70048, 25), (66578, 23))"
            ]
          },
          "execution_count": 20,
          "metadata": {},
          "output_type": "execute_result"
        }
      ]
    },
    {
      "cell_type": "code",
      "metadata": {
        "id": "2be5ae66",
        "outputId": "d20c80d8-8592-4c7b-ac48-458280d0af31"
      },
      "source": [
        "69959-66578   # 65057 + 1706  "
      ],
      "id": "2be5ae66",
      "execution_count": null,
      "outputs": [
        {
          "data": {
            "text/plain": [
              "3381"
            ]
          },
          "execution_count": 21,
          "metadata": {},
          "output_type": "execute_result"
        }
      ]
    },
    {
      "cell_type": "code",
      "metadata": {
        "id": "11b19b2f"
      },
      "source": [
        ""
      ],
      "id": "11b19b2f",
      "execution_count": null,
      "outputs": []
    },
    {
      "cell_type": "code",
      "metadata": {
        "id": "055b1879",
        "outputId": "e3fc6e3f-741d-4a0a-b67c-a42a66c3e6f7"
      },
      "source": [
        "inscri_total = bv_euro[\"Inscrits\"].astype(int)\n",
        "inscri_total.sum()"
      ],
      "id": "055b1879",
      "execution_count": null,
      "outputs": [
        {
          "data": {
            "text/plain": [
              "44230615"
            ]
          },
          "execution_count": 22,
          "metadata": {},
          "output_type": "execute_result"
        }
      ]
    },
    {
      "cell_type": "code",
      "metadata": {
        "id": "6903cb9f",
        "outputId": "9ce6fca6-ac1e-455c-a3ad-22878b29b9bf"
      },
      "source": [
        "inscri_recon = jointure_interne[\"Inscrits\"].astype(int)\n",
        "inscri_recon.sum()"
      ],
      "id": "6903cb9f",
      "execution_count": null,
      "outputs": [
        {
          "data": {
            "text/plain": [
              "39862311"
            ]
          },
          "execution_count": 23,
          "metadata": {},
          "output_type": "execute_result"
        }
      ]
    },
    {
      "cell_type": "code",
      "metadata": {
        "id": "62e31062",
        "outputId": "04c7aaa1-912b-4b2d-90e8-c88592d2a38b"
      },
      "source": [
        "44230615 - 43269823, 961113 - 960792 # 961113 (taille de commune du fichier Pierre)"
      ],
      "id": "62e31062",
      "execution_count": null,
      "outputs": [
        {
          "data": {
            "text/plain": [
              "(960792, 321)"
            ]
          },
          "execution_count": 24,
          "metadata": {},
          "output_type": "execute_result"
        }
      ]
    },
    {
      "cell_type": "code",
      "metadata": {
        "id": "46042805"
      },
      "source": [
        "######################################################################\n",
        "#                      ENREGISTREMENT\n",
        "######################################################################\n",
        "\n",
        "louis_sans_nan_doublons_sup_97501.to_csv(\"C:/Users/Christian/Desktop/IRIS_BV_final/Bureau_de_votes_louis/CORRIGER_VERSION_2/louis_sans_nan_doublons_sup_97501.txt\",sep=\";\", index=False)\n",
        "jointure_interne.to_csv(\"C:/Users/Christian/Desktop/IRIS_BV_final/Bureau_de_votes_louis/CORRIGER_VERSION_2/jointure_sans_nan_doublons_sup_97501.txt\",sep=\";\", index=False)\n",
        "\n",
        "\n"
      ],
      "id": "46042805",
      "execution_count": null,
      "outputs": []
    },
    {
      "cell_type": "code",
      "metadata": {
        "id": "e5c963b5",
        "outputId": "dc75be58-9456-4400-e9a5-53c916d861a8"
      },
      "source": [
        "louis_sans_nan_doublons_sup_97501.shape, jointure_interne.shape"
      ],
      "id": "e5c963b5",
      "execution_count": null,
      "outputs": [
        {
          "data": {
            "text/plain": [
              "((60788, 26), (57436, 48))"
            ]
          },
          "execution_count": 36,
          "metadata": {},
          "output_type": "execute_result"
        }
      ]
    },
    {
      "cell_type": "code",
      "metadata": {
        "id": "287290f8",
        "outputId": "34bd2551-5cef-4ec0-ecd8-2ce91190b552"
      },
      "source": [
        "data_louis_orig.shape , bv_euro_brut.shape"
      ],
      "id": "287290f8",
      "execution_count": null,
      "outputs": [
        {
          "data": {
            "text/plain": [
              "((70048, 25), (69297, 226))"
            ]
          },
          "execution_count": 39,
          "metadata": {},
          "output_type": "execute_result"
        }
      ]
    },
    {
      "cell_type": "code",
      "metadata": {
        "id": "15d2280a",
        "outputId": "b3813a31-302b-4731-b25f-b0575a3e2411"
      },
      "source": [
        "jointure_interne[\"Inscrits\"].astype(int).sum(),bv_euro_brut[\"Inscrits\"].astype(int).sum()"
      ],
      "id": "15d2280a",
      "execution_count": null,
      "outputs": [
        {
          "data": {
            "text/plain": [
              "(39862311, 47345328)"
            ]
          },
          "execution_count": 43,
          "metadata": {},
          "output_type": "execute_result"
        }
      ]
    },
    {
      "cell_type": "code",
      "metadata": {
        "id": "9e03c894",
        "outputId": "67c0224f-f7b5-4df3-c68a-01e64885a63a"
      },
      "source": [
        "(47345328-39862311)/47345328"
      ],
      "id": "9e03c894",
      "execution_count": null,
      "outputs": [
        {
          "data": {
            "text/plain": [
              "0.15805185677454806"
            ]
          },
          "execution_count": 44,
          "metadata": {},
          "output_type": "execute_result"
        }
      ]
    },
    {
      "cell_type": "code",
      "metadata": {
        "id": "9cc106c2",
        "outputId": "be7f243f-2e86-45ce-8e53-69bd32c0a0d8"
      },
      "source": [
        "(47345328-39862311-3114713)/(47345328-3114713) # sans les votes de l'étranger 3114713"
      ],
      "id": "9cc106c2",
      "execution_count": null,
      "outputs": [
        {
          "data": {
            "text/plain": [
              "0.09876200003097402"
            ]
          },
          "execution_count": 45,
          "metadata": {},
          "output_type": "execute_result"
        }
      ]
    },
    {
      "cell_type": "code",
      "metadata": {
        "id": "01b5d893",
        "outputId": "4705de7e-59c6-449c-a742-156deca65bf3"
      },
      "source": [
        "47345328-39862311-3114713-961113"
      ],
      "id": "01b5d893",
      "execution_count": null,
      "outputs": [
        {
          "data": {
            "text/plain": [
              "3407191"
            ]
          },
          "execution_count": 47,
          "metadata": {},
          "output_type": "execute_result"
        }
      ]
    },
    {
      "cell_type": "code",
      "metadata": {
        "id": "2fb23f17"
      },
      "source": [
        "3114713"
      ],
      "id": "2fb23f17",
      "execution_count": null,
      "outputs": []
    },
    {
      "cell_type": "code",
      "metadata": {
        "id": "58d77e4b",
        "outputId": "7d80bbb6-cfd5-4af3-ced8-c9402af81689"
      },
      "source": [
        "######################################################################\n",
        "\"\"\" \n",
        "non_recon = pd.read_excel(\"C:/Users/Christian/Desktop/IRIS_BV_final/Bureau_de_votes_louis/CORRIGER_VERSION_2/Communes_Metropole_BV_non_reconcilies.xlsx\", dtype=str)\n",
        "non_recon\n",
        "\"\"\""
      ],
      "id": "58d77e4b",
      "execution_count": null,
      "outputs": [
        {
          "data": {
            "text/plain": [
              "' \\nnon_recon = pd.read_excel(\"C:/Users/Christian/Desktop/IRIS_BV_final/Bureau_de_votes_louis/CORRIGER_VERSION_2/Communes_Metropole_BV_non_reconcilies.xlsx\", dtype=str)\\nnon_recon\\n'"
            ]
          },
          "execution_count": 26,
          "metadata": {},
          "output_type": "execute_result"
        }
      ]
    },
    {
      "cell_type": "code",
      "metadata": {
        "id": "9b5f3210"
      },
      "source": [
        ""
      ],
      "id": "9b5f3210",
      "execution_count": null,
      "outputs": []
    },
    {
      "cell_type": "code",
      "metadata": {
        "id": "f821f064"
      },
      "source": [
        "#non_recon[\"Code_commune\"].value_counts()"
      ],
      "id": "f821f064",
      "execution_count": null,
      "outputs": []
    },
    {
      "cell_type": "code",
      "metadata": {
        "id": "25314177",
        "outputId": "d23b926b-17de-404e-a6a3-d7ce772f0f66"
      },
      "source": [
        "\"\"\"  \n",
        "val_comm_non_recon = non_recon[\"Code_commune\"].unique()\n",
        "premier = val_comm_non_recon[0]\n",
        "premier\n",
        "\"\"\""
      ],
      "id": "25314177",
      "execution_count": null,
      "outputs": [
        {
          "data": {
            "text/plain": [
              "'  \\nval_comm_non_recon = non_recon[\"Code_commune\"].unique()\\npremier = val_comm_non_recon[0]\\npremier\\n'"
            ]
          },
          "execution_count": 28,
          "metadata": {},
          "output_type": "execute_result"
        }
      ]
    },
    {
      "cell_type": "code",
      "metadata": {
        "scrolled": true,
        "id": "8d75e66b",
        "outputId": "088a3254-56ec-4ea7-d2b4-281a281fbc7e"
      },
      "source": [
        "\"\"\"\n",
        "num=1\n",
        "test = bv_euro[bv_euro[\"Code_commune\"]==premier]\n",
        "for i in val_comm_non_recon :\n",
        "    if i!= premier :\n",
        "        test_last =bv_euro[bv_euro[\"Code_commune\"]==i]\n",
        "        test= pd.concat([test,test_last])\n",
        "        num = num+1\n",
        "test   \n",
        "\"\"\""
      ],
      "id": "8d75e66b",
      "execution_count": null,
      "outputs": [
        {
          "data": {
            "text/plain": [
              "'\\nnum=1\\ntest = bv_euro[bv_euro[\"Code_commune\"]==premier]\\nfor i in val_comm_non_recon :\\n    if i!= premier :\\n        test_last =bv_euro[bv_euro[\"Code_commune\"]==i]\\n        test= pd.concat([test,test_last])\\n        num = num+1\\ntest   \\n'"
            ]
          },
          "execution_count": 29,
          "metadata": {},
          "output_type": "execute_result"
        }
      ]
    },
    {
      "cell_type": "code",
      "metadata": {
        "id": "8dbf1d2c"
      },
      "source": [
        "#test[\"Inscrits\"].astype(int).sum(), num"
      ],
      "id": "8dbf1d2c",
      "execution_count": null,
      "outputs": []
    },
    {
      "cell_type": "code",
      "metadata": {
        "id": "d2ac5cae"
      },
      "source": [
        "# VERIFICATION\n",
        "#43269823 + 1083663\n"
      ],
      "id": "d2ac5cae",
      "execution_count": null,
      "outputs": []
    },
    {
      "cell_type": "code",
      "metadata": {
        "id": "3a015218"
      },
      "source": [
        "# somme - total_vrai\n",
        "#44353486-44230615"
      ],
      "id": "3a015218",
      "execution_count": null,
      "outputs": []
    },
    {
      "cell_type": "code",
      "metadata": {
        "id": "d617a562"
      },
      "source": [
        "#test[test[\"Code_commune\"]==\"60482\"][\"Inscrits\"].astype(int).sum()"
      ],
      "id": "d617a562",
      "execution_count": null,
      "outputs": []
    },
    {
      "cell_type": "code",
      "metadata": {
        "id": "c6072aec"
      },
      "source": [
        "#test[test[\"Code_commune\"]==\"60482\"]"
      ],
      "id": "c6072aec",
      "execution_count": null,
      "outputs": []
    },
    {
      "cell_type": "code",
      "metadata": {
        "id": "8196279a"
      },
      "source": [
        "########################################################################################\n"
      ],
      "id": "8196279a",
      "execution_count": null,
      "outputs": []
    },
    {
      "cell_type": "code",
      "metadata": {
        "id": "dcb9f318"
      },
      "source": [
        ""
      ],
      "id": "dcb9f318",
      "execution_count": null,
      "outputs": []
    },
    {
      "cell_type": "code",
      "metadata": {
        "id": "1c8a76b1"
      },
      "source": [
        ""
      ],
      "id": "1c8a76b1",
      "execution_count": null,
      "outputs": []
    },
    {
      "cell_type": "code",
      "metadata": {
        "id": "4b32ebe4"
      },
      "source": [
        ""
      ],
      "id": "4b32ebe4",
      "execution_count": null,
      "outputs": []
    }
  ]
}